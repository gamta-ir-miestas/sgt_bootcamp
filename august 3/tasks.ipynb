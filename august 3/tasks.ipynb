{
 "cells": [
  {
   "cell_type": "markdown",
   "metadata": {},
   "source": [
    "MongoDB:\n",
    "  1. Take one of the previous SQL databases created by you\n",
    "  2. In Python, write the code which extracts the tables from that DB\n",
    "  3. Load the data from these tables as the collections to MongoDB collections (create them before)\n",
    "  3.1. Create unique index, so it matches the key value in the initial SQL database\n",
    "  4. Insert at least 3 entries to these collections\n",
    "  5. Perform at least 3 selections based on different (MIXED - \"one or another\",\"one and another\", etc.) filter\n",
    "  6. Perform at least 3 update operations\n",
    "\n",
    "\n",
    "Redis DB:\n",
    "  1. Use the same SQL data as in Part 1.\n",
    "  2. Create Redis DB, with the data from SQL:\n",
    "    Set a key with a specific value in Redis.\n",
    "    Retrieve the value of a key from Redis.\n",
    "    Delete a key-value pair from Redis."
   ]
  },
  {
   "cell_type": "markdown",
   "metadata": {},
   "source": [
    "# MongoDB"
   ]
  },
  {
   "cell_type": "markdown",
   "metadata": {},
   "source": [
    "Taking a previous database (students database from july 27 task) and preparing it to insert to Mongo database"
   ]
  },
  {
   "cell_type": "code",
   "execution_count": 6,
   "metadata": {},
   "outputs": [],
   "source": [
    "# connect to mysql\n",
    "import mysql.connector\n",
    "import pandas as pd\n",
    "\n",
    "conn = mysql.connector.connect(host='localhost',\n",
    "                                database= \"student_enrollment_2023\",\n",
    "                                user='root',\n",
    "                                password='')\n",
    "\n",
    "cursor = conn.cursor(buffered= True)\n",
    "\n",
    "query1 = \"SELECT * FROM students;\"\n",
    "cursor.execute(query1)\n",
    "result = cursor.fetchall()\n",
    "columns1 = [desc[0] for desc in cursor.description]\n",
    "students_table = pd.DataFrame(result, columns = columns1)\n",
    "\n",
    "query2 = \"SELECT * FROM courses;\"\n",
    "cursor.execute(query2)\n",
    "result = cursor.fetchall()\n",
    "columns2 = [desc[0] for desc in cursor.description]\n",
    "courses_table = pd.DataFrame(result, columns = columns2)\n",
    "\n",
    "query3 = \"SELECT * FROM course_choices;\"\n",
    "cursor.execute(query3)\n",
    "result = cursor.fetchall()\n",
    "columns3 = [desc[0] for desc in cursor.description]\n",
    "choices_table = pd.DataFrame(result, columns = columns3)\n",
    "\n",
    "cursor.close()\n",
    "conn.close()"
   ]
  },
  {
   "cell_type": "code",
   "execution_count": 14,
   "metadata": {},
   "outputs": [],
   "source": [
    "merge1 = choices_table.merge(courses_table, how = \"left\", on = \"course_id\")"
   ]
  },
  {
   "cell_type": "code",
   "execution_count": 16,
   "metadata": {},
   "outputs": [],
   "source": [
    "student_df = merge1.merge(students_table, how = \"left\", on = \"student_id\")"
   ]
  },
  {
   "cell_type": "code",
   "execution_count": 19,
   "metadata": {},
   "outputs": [
    {
     "data": {
      "text/html": [
       "<div>\n",
       "<style scoped>\n",
       "    .dataframe tbody tr th:only-of-type {\n",
       "        vertical-align: middle;\n",
       "    }\n",
       "\n",
       "    .dataframe tbody tr th {\n",
       "        vertical-align: top;\n",
       "    }\n",
       "\n",
       "    .dataframe thead th {\n",
       "        text-align: right;\n",
       "    }\n",
       "</style>\n",
       "<table border=\"1\" class=\"dataframe\">\n",
       "  <thead>\n",
       "    <tr style=\"text-align: right;\">\n",
       "      <th></th>\n",
       "      <th>student_id</th>\n",
       "      <th>course_name</th>\n",
       "      <th>name</th>\n",
       "      <th>surname</th>\n",
       "      <th>credits_taken</th>\n",
       "    </tr>\n",
       "  </thead>\n",
       "  <tbody>\n",
       "    <tr>\n",
       "      <th>0</th>\n",
       "      <td>2</td>\n",
       "      <td>Spectroscopy</td>\n",
       "      <td>Inga</td>\n",
       "      <td>Gonzalez</td>\n",
       "      <td>30</td>\n",
       "    </tr>\n",
       "    <tr>\n",
       "      <th>1</th>\n",
       "      <td>1</td>\n",
       "      <td>Linear Algebra</td>\n",
       "      <td>Maria</td>\n",
       "      <td>Jones</td>\n",
       "      <td>30</td>\n",
       "    </tr>\n",
       "    <tr>\n",
       "      <th>2</th>\n",
       "      <td>2</td>\n",
       "      <td>Enzymology</td>\n",
       "      <td>Inga</td>\n",
       "      <td>Gonzalez</td>\n",
       "      <td>30</td>\n",
       "    </tr>\n",
       "    <tr>\n",
       "      <th>3</th>\n",
       "      <td>3</td>\n",
       "      <td>Enzymology</td>\n",
       "      <td>Julia</td>\n",
       "      <td>Pipiro</td>\n",
       "      <td>30</td>\n",
       "    </tr>\n",
       "    <tr>\n",
       "      <th>4</th>\n",
       "      <td>4</td>\n",
       "      <td>Linear Algebra</td>\n",
       "      <td>Chris</td>\n",
       "      <td>Goblin</td>\n",
       "      <td>30</td>\n",
       "    </tr>\n",
       "    <tr>\n",
       "      <th>...</th>\n",
       "      <td>...</td>\n",
       "      <td>...</td>\n",
       "      <td>...</td>\n",
       "      <td>...</td>\n",
       "      <td>...</td>\n",
       "    </tr>\n",
       "    <tr>\n",
       "      <th>241</th>\n",
       "      <td>59</td>\n",
       "      <td>Physics</td>\n",
       "      <td>Andrew</td>\n",
       "      <td>Powell</td>\n",
       "      <td>30</td>\n",
       "    </tr>\n",
       "    <tr>\n",
       "      <th>242</th>\n",
       "      <td>15</td>\n",
       "      <td>Analytical Chemistry</td>\n",
       "      <td>Noah</td>\n",
       "      <td>Thompson</td>\n",
       "      <td>30</td>\n",
       "    </tr>\n",
       "    <tr>\n",
       "      <th>243</th>\n",
       "      <td>59</td>\n",
       "      <td>Quantum Physics</td>\n",
       "      <td>Andrew</td>\n",
       "      <td>Powell</td>\n",
       "      <td>30</td>\n",
       "    </tr>\n",
       "    <tr>\n",
       "      <th>244</th>\n",
       "      <td>59</td>\n",
       "      <td>Stereochemistry</td>\n",
       "      <td>Andrew</td>\n",
       "      <td>Powell</td>\n",
       "      <td>30</td>\n",
       "    </tr>\n",
       "    <tr>\n",
       "      <th>245</th>\n",
       "      <td>59</td>\n",
       "      <td>Analytical Chemistry</td>\n",
       "      <td>Andrew</td>\n",
       "      <td>Powell</td>\n",
       "      <td>30</td>\n",
       "    </tr>\n",
       "  </tbody>\n",
       "</table>\n",
       "<p>246 rows × 5 columns</p>\n",
       "</div>"
      ],
      "text/plain": [
       "     student_id           course_name    name   surname  credits_taken\n",
       "0             2          Spectroscopy    Inga  Gonzalez             30\n",
       "1             1        Linear Algebra   Maria     Jones             30\n",
       "2             2            Enzymology    Inga  Gonzalez             30\n",
       "3             3            Enzymology   Julia    Pipiro             30\n",
       "4             4        Linear Algebra   Chris    Goblin             30\n",
       "..          ...                   ...     ...       ...            ...\n",
       "241          59               Physics  Andrew    Powell             30\n",
       "242          15  Analytical Chemistry    Noah  Thompson             30\n",
       "243          59       Quantum Physics  Andrew    Powell             30\n",
       "244          59       Stereochemistry  Andrew    Powell             30\n",
       "245          59  Analytical Chemistry  Andrew    Powell             30\n",
       "\n",
       "[246 rows x 5 columns]"
      ]
     },
     "execution_count": 19,
     "metadata": {},
     "output_type": "execute_result"
    }
   ],
   "source": [
    "students_df = student_df.drop([\"choice_id\", \"course_id\", \"student_no_limit\", \"credits\"], axis = 1)\n",
    "students_df"
   ]
  },
  {
   "cell_type": "code",
   "execution_count": 24,
   "metadata": {},
   "outputs": [],
   "source": [
    "grouped = students_df.groupby(\"student_id\")[\"course_name\"].agg(list).reset_index()"
   ]
  },
  {
   "cell_type": "code",
   "execution_count": 25,
   "metadata": {},
   "outputs": [
    {
     "data": {
      "text/html": [
       "<div>\n",
       "<style scoped>\n",
       "    .dataframe tbody tr th:only-of-type {\n",
       "        vertical-align: middle;\n",
       "    }\n",
       "\n",
       "    .dataframe tbody tr th {\n",
       "        vertical-align: top;\n",
       "    }\n",
       "\n",
       "    .dataframe thead th {\n",
       "        text-align: right;\n",
       "    }\n",
       "</style>\n",
       "<table border=\"1\" class=\"dataframe\">\n",
       "  <thead>\n",
       "    <tr style=\"text-align: right;\">\n",
       "      <th></th>\n",
       "      <th>student_id</th>\n",
       "      <th>name</th>\n",
       "      <th>surname</th>\n",
       "      <th>credits_taken</th>\n",
       "      <th>course_name</th>\n",
       "    </tr>\n",
       "  </thead>\n",
       "  <tbody>\n",
       "    <tr>\n",
       "      <th>0</th>\n",
       "      <td>1</td>\n",
       "      <td>Maria</td>\n",
       "      <td>Jones</td>\n",
       "      <td>30</td>\n",
       "      <td>[Linear Algebra, Microbiology, Panel readings,...</td>\n",
       "    </tr>\n",
       "    <tr>\n",
       "      <th>1</th>\n",
       "      <td>2</td>\n",
       "      <td>Inga</td>\n",
       "      <td>Gonzalez</td>\n",
       "      <td>30</td>\n",
       "      <td>[Spectroscopy, Enzymology, Enzymology]</td>\n",
       "    </tr>\n",
       "    <tr>\n",
       "      <th>2</th>\n",
       "      <td>3</td>\n",
       "      <td>Julia</td>\n",
       "      <td>Pipiro</td>\n",
       "      <td>30</td>\n",
       "      <td>[Enzymology, Electromechanics, Stereochemistry...</td>\n",
       "    </tr>\n",
       "    <tr>\n",
       "      <th>3</th>\n",
       "      <td>4</td>\n",
       "      <td>Chris</td>\n",
       "      <td>Goblin</td>\n",
       "      <td>30</td>\n",
       "      <td>[Linear Algebra, Physics, Panel readings, Anal...</td>\n",
       "    </tr>\n",
       "    <tr>\n",
       "      <th>4</th>\n",
       "      <td>5</td>\n",
       "      <td>Ken</td>\n",
       "      <td>Katty</td>\n",
       "      <td>30</td>\n",
       "      <td>[Psychology, Enzymology, Stereochemistry, Disc...</td>\n",
       "    </tr>\n",
       "    <tr>\n",
       "      <th>5</th>\n",
       "      <td>6</td>\n",
       "      <td>Aliya</td>\n",
       "      <td>Examplier</td>\n",
       "      <td>30</td>\n",
       "      <td>[Physics, Electromechanics, Electromechanics]</td>\n",
       "    </tr>\n",
       "    <tr>\n",
       "      <th>6</th>\n",
       "      <td>7</td>\n",
       "      <td>Thomas</td>\n",
       "      <td>Capitol</td>\n",
       "      <td>30</td>\n",
       "      <td>[Linear Algebra, Electromechanics, Microbiolog...</td>\n",
       "    </tr>\n",
       "    <tr>\n",
       "      <th>7</th>\n",
       "      <td>8</td>\n",
       "      <td>Justin</td>\n",
       "      <td>Zymus</td>\n",
       "      <td>30</td>\n",
       "      <td>[Biochemistry, Analytical Chemistry, Panel rea...</td>\n",
       "    </tr>\n",
       "    <tr>\n",
       "      <th>8</th>\n",
       "      <td>9</td>\n",
       "      <td>Cassandra</td>\n",
       "      <td>Antrapa</td>\n",
       "      <td>30</td>\n",
       "      <td>[Panel readings, Molecular Biotechnology, Phys...</td>\n",
       "    </tr>\n",
       "    <tr>\n",
       "      <th>9</th>\n",
       "      <td>10</td>\n",
       "      <td>Mia</td>\n",
       "      <td>Johnson</td>\n",
       "      <td>30</td>\n",
       "      <td>[Physics, Biochemistry, Stereochemistry]</td>\n",
       "    </tr>\n",
       "  </tbody>\n",
       "</table>\n",
       "</div>"
      ],
      "text/plain": [
       "   student_id       name    surname  credits_taken   \n",
       "0           1      Maria      Jones             30  \\\n",
       "1           2       Inga   Gonzalez             30   \n",
       "2           3      Julia     Pipiro             30   \n",
       "3           4      Chris     Goblin             30   \n",
       "4           5        Ken      Katty             30   \n",
       "5           6      Aliya  Examplier             30   \n",
       "6           7     Thomas    Capitol             30   \n",
       "7           8     Justin      Zymus             30   \n",
       "8           9  Cassandra    Antrapa             30   \n",
       "9          10        Mia    Johnson             30   \n",
       "\n",
       "                                         course_name  \n",
       "0  [Linear Algebra, Microbiology, Panel readings,...  \n",
       "1             [Spectroscopy, Enzymology, Enzymology]  \n",
       "2  [Enzymology, Electromechanics, Stereochemistry...  \n",
       "3  [Linear Algebra, Physics, Panel readings, Anal...  \n",
       "4  [Psychology, Enzymology, Stereochemistry, Disc...  \n",
       "5      [Physics, Electromechanics, Electromechanics]  \n",
       "6  [Linear Algebra, Electromechanics, Microbiolog...  \n",
       "7  [Biochemistry, Analytical Chemistry, Panel rea...  \n",
       "8  [Panel readings, Molecular Biotechnology, Phys...  \n",
       "9           [Physics, Biochemistry, Stereochemistry]  "
      ]
     },
     "execution_count": 25,
     "metadata": {},
     "output_type": "execute_result"
    }
   ],
   "source": [
    "final_df = students_table.merge(grouped, how = \"left\", on = \"student_id\")\n",
    "final_df.head(10)"
   ]
  },
  {
   "cell_type": "markdown",
   "metadata": {},
   "source": [
    "In order to have more data for the tasks, I added more entries to july 27 task."
   ]
  },
  {
   "cell_type": "markdown",
   "metadata": {},
   "source": [
    "Inserting the data to MongoDB"
   ]
  },
  {
   "cell_type": "code",
   "execution_count": 33,
   "metadata": {},
   "outputs": [
    {
     "name": "stdout",
     "output_type": "stream",
     "text": [
      "Pinged your deployment. You successfully connected to MongoDB!\n"
     ]
    }
   ],
   "source": [
    "# Connect to mongo db\n",
    "from pymongo.mongo_client import MongoClient\n",
    "from pymongo.server_api import ServerApi\n",
    "\n",
    "uri = \"mongodb+srv://<logininfo>@cluster0test.<>.mongodb.net/?retryWrites=false&w=majority\"\n",
    "\n",
    "# Create a new client and connect to the server\n",
    "client = MongoClient(uri, server_api=ServerApi('1'))\n",
    "\n",
    "# Send a ping to confirm a successful connection\n",
    "try:\n",
    "    client.admin.command('ping')\n",
    "    print(\"Pinged your deployment. You successfully connected to MongoDB!\")\n",
    "except Exception as e:\n",
    "    print(e)"
   ]
  },
  {
   "cell_type": "code",
   "execution_count": 49,
   "metadata": {},
   "outputs": [],
   "source": [
    "db = client[\"Cluster0test\"]\n",
    "collection = db[\"Students\"]"
   ]
  },
  {
   "cell_type": "code",
   "execution_count": 51,
   "metadata": {},
   "outputs": [
    {
     "data": {
      "text/plain": [
       "<pymongo.results.InsertManyResult at 0x7f43e04c82e0>"
      ]
     },
     "execution_count": 51,
     "metadata": {},
     "output_type": "execute_result"
    }
   ],
   "source": [
    "records = final_df.to_dict(orient = \"records\")\n",
    "collection.insert_many(records)"
   ]
  },
  {
   "cell_type": "markdown",
   "metadata": {},
   "source": [
    "Inserting at least 3 entries to the collection"
   ]
  },
  {
   "cell_type": "code",
   "execution_count": 52,
   "metadata": {},
   "outputs": [],
   "source": [
    "entry1 = {\n",
    "    \"student_id\" : 60,\n",
    "    \"name\" : \"Julian\",\n",
    "    \"surname\" : \"Birkin\",\n",
    "    \"credits_taken\" : 30,\n",
    "    \"course_name\" : [\"Microbiology\", \"Psychology\", \"Biochemistry\", \"Analytical Chemistry\"]\n",
    "}\n",
    "\n",
    "entry2 = {\n",
    "    \"student_id\" : 61,\n",
    "    \"name\" : \"Emma\",\n",
    "    \"surname\" : \"Watts\",\n",
    "    \"credits_taken\" : 30,\n",
    "    \"course_name\" : [\"Linear Algebra\", \"Spectroscopy\", \"Enzymology\", \"Panel readings\"]\n",
    "}\n",
    "\n",
    "entry3 = {\n",
    "    \"student_id\" : 62,\n",
    "    \"name\" : \"Jimmy\",\n",
    "    \"surname\" : \"Jams\",\n",
    "    \"credits_taken\" : 30,\n",
    "    \"course_name\" : [\"Linear Algebra\", \"Molecular Biotechnology\", \"Quantum Physics\", \"Stereochemistry\", \"Economics\", \"Psychology\"]\n",
    "}\n",
    "\n",
    "entry4 = {\n",
    "    \"student_id\" : 63,\n",
    "    \"name\" : \"Melinda\",\n",
    "    \"surname\" : \"Morris\",\n",
    "    \"credits_taken\" : 30,\n",
    "    \"course_name\" : [\"Discrete Mathematics\", \"Electromechanics\", \"Physics\"]\n",
    "}\n",
    "\n",
    "entry5 = {\n",
    "    \"student_id\" : 64,\n",
    "    \"name\" : \"Zizi\",\n",
    "    \"surname\" : \"Melou\",\n",
    "    \"credits_taken\" : 30,\n",
    "    \"course_name\" : [\"Spectroscopy\", \"Biochemistry\", \"Economics\"]\n",
    "}"
   ]
  },
  {
   "cell_type": "code",
   "execution_count": 53,
   "metadata": {},
   "outputs": [
    {
     "data": {
      "text/plain": [
       "<pymongo.results.InsertManyResult at 0x7f43e04161a0>"
      ]
     },
     "execution_count": 53,
     "metadata": {},
     "output_type": "execute_result"
    }
   ],
   "source": [
    "collection.insert_many([entry1, entry2, entry3, entry4, entry5])"
   ]
  },
  {
   "cell_type": "markdown",
   "metadata": {},
   "source": [
    "Performing at least 3 selections based on different (MIXED - \"one or another\",\"one and another\", etc.) filter"
   ]
  },
  {
   "cell_type": "code",
   "execution_count": 56,
   "metadata": {},
   "outputs": [],
   "source": [
    "# selection1: finding students with the names Aiden or Ava\n",
    "\n",
    "results = collection.find({\"$or\":[{\"name\":\"Aiden\"},{\"name\":\"Ava\"}]})"
   ]
  },
  {
   "cell_type": "code",
   "execution_count": 57,
   "metadata": {},
   "outputs": [
    {
     "name": "stdout",
     "output_type": "stream",
     "text": [
      "{'_id': ObjectId('64da2e406deb66336799158c'), 'student_id': 14, 'name': 'Ava', 'surname': 'Williams', 'credits_taken': 30, 'course_name': ['Enzymology', 'Molecular Biotechnology', 'Panel readings', 'Molecular Biotechnology', 'Psychology']}\n",
      "{'_id': ObjectId('64da2e406deb663367991591'), 'student_id': 19, 'name': 'Aiden', 'surname': 'Brown', 'credits_taken': 30, 'course_name': ['Microbiology', 'Spectroscopy', 'Physics']}\n"
     ]
    }
   ],
   "source": [
    "for entry in results:\n",
    "    print(entry)"
   ]
  },
  {
   "cell_type": "code",
   "execution_count": 54,
   "metadata": {},
   "outputs": [],
   "source": [
    "# selection2: finding students who are studying either microbiology or economics\n",
    "\n",
    "results = collection.find({\"course_name\":{\"$in\":['Microbiology' , 'Economics']}})"
   ]
  },
  {
   "cell_type": "code",
   "execution_count": 55,
   "metadata": {},
   "outputs": [
    {
     "name": "stdout",
     "output_type": "stream",
     "text": [
      "{'_id': ObjectId('64da2e406deb66336799157f'), 'student_id': 1, 'name': 'Maria', 'surname': 'Jones', 'credits_taken': 30, 'course_name': ['Linear Algebra', 'Microbiology', 'Panel readings', 'Discrete Mathematics']}\n",
      "{'_id': ObjectId('64da2e406deb663367991585'), 'student_id': 7, 'name': 'Thomas', 'surname': 'Capitol', 'credits_taken': 30, 'course_name': ['Linear Algebra', 'Electromechanics', 'Microbiology', 'Panel readings']}\n",
      "{'_id': ObjectId('64da2e406deb663367991589'), 'student_id': 11, 'name': 'Ethan', 'surname': 'Martinez', 'credits_taken': 30, 'course_name': ['Analytical Chemistry', 'Quantum Physics', 'Discrete Mathematics', 'Microbiology']}\n",
      "{'_id': ObjectId('64da2e406deb66336799158e'), 'student_id': 16, 'name': 'Sophia', 'surname': 'Davis', 'credits_taken': 30, 'course_name': ['Panel readings', 'Economics', 'Electromechanics', 'Physics']}\n",
      "{'_id': ObjectId('64da2e406deb663367991591'), 'student_id': 19, 'name': 'Aiden', 'surname': 'Brown', 'credits_taken': 30, 'course_name': ['Microbiology', 'Spectroscopy', 'Physics']}\n",
      "{'_id': ObjectId('64da2e406deb663367991593'), 'student_id': 21, 'name': 'Lucas', 'surname': 'Wilson', 'credits_taken': 30, 'course_name': ['Stereochemistry', 'Microbiology', 'Molecular Biotechnology', 'Panel readings', 'Economics']}\n",
      "{'_id': ObjectId('64da2e406deb663367991595'), 'student_id': 23, 'name': 'Oliver', 'surname': 'Lee', 'credits_taken': 30, 'course_name': ['Stereochemistry', 'Microbiology', 'Enzymology', 'Analytical Chemistry']}\n",
      "{'_id': ObjectId('64da2e406deb66336799159d'), 'student_id': 31, 'name': 'Benjamin', 'surname': 'Scott', 'credits_taken': 30, 'course_name': ['Psychology', 'Microbiology', 'Quantum Physics', 'Microbiology']}\n",
      "{'_id': ObjectId('64da2e406deb6633679915a0'), 'student_id': 34, 'name': 'Scarlett', 'surname': 'Moore', 'credits_taken': 30, 'course_name': ['Economics', 'Linear Algebra', 'Physics', 'Analytical Chemistry', 'Economics']}\n",
      "{'_id': ObjectId('64da2e406deb6633679915a1'), 'student_id': 35, 'name': 'Matthew', 'surname': 'Mitchell', 'credits_taken': 30, 'course_name': ['Enzymology', 'Enzymology', 'Economics', 'Analytical Chemistry']}\n",
      "{'_id': ObjectId('64da2e406deb6633679915a7'), 'student_id': 41, 'name': 'Michael', 'surname': 'Brooks', 'credits_taken': 30, 'course_name': ['Economics', 'Electromechanics', 'Microbiology', 'Analytical Chemistry']}\n",
      "{'_id': ObjectId('64da2e406deb6633679915a8'), 'student_id': 42, 'name': 'Abigail', 'surname': 'Wright', 'credits_taken': 30, 'course_name': ['Panel readings', 'Economics', 'Psychology', 'Panel readings', 'Physics']}\n",
      "{'_id': ObjectId('64da2e406deb6633679915aa'), 'student_id': 44, 'name': 'Emily', 'surname': 'Ramirez', 'credits_taken': 30, 'course_name': ['Economics', 'Panel readings', 'Quantum Physics', 'Panel readings', 'Analytical Chemistry', 'Analytical Chemistry']}\n",
      "{'_id': ObjectId('64da2e406deb6633679915ac'), 'student_id': 46, 'name': 'Ella', 'surname': 'Foster', 'credits_taken': 30, 'course_name': ['Electromechanics', 'Psychology', 'Microbiology', 'Panel readings']}\n",
      "{'_id': ObjectId('64da2e406deb6633679915ae'), 'student_id': 48, 'name': 'Elizabeth', 'surname': 'Hayes', 'credits_taken': 30, 'course_name': ['Quantum Physics', 'Microbiology', 'Molecular Biotechnology', 'Linear Algebra', 'Linear Algebra']}\n",
      "{'_id': ObjectId('64da2e406deb6633679915b0'), 'student_id': 50, 'name': 'Victoria', 'surname': 'Flores', 'credits_taken': 30, 'course_name': ['Microbiology', 'Economics', 'Analytical Chemistry', 'Economics', 'Psychology']}\n",
      "{'_id': ObjectId('64da2e406deb6633679915b2'), 'student_id': 52, 'name': 'Madison', 'surname': 'Rivera', 'credits_taken': 30, 'course_name': ['Panel readings', 'Microbiology', 'Economics', 'Psychology', 'Psychology']}\n",
      "{'_id': ObjectId('64da2e406deb6633679915b6'), 'student_id': 56, 'name': 'Zoey', 'surname': 'Ward', 'credits_taken': 30, 'course_name': ['Panel readings', 'Economics', 'Physics', 'Quantum Physics', 'Economics']}\n",
      "{'_id': ObjectId('64da2e406deb6633679915b9'), 'student_id': 59, 'name': 'Andrew', 'surname': 'Powell', 'credits_taken': 30, 'course_name': ['Economics', 'Physics', 'Quantum Physics', 'Stereochemistry', 'Analytical Chemistry']}\n",
      "{'_id': ObjectId('64da31276deb6633679915ba'), 'student_id': 60, 'name': 'Julian', 'surname': 'Birkin', 'credits_taken': 30, 'course_name': ['Microbiology', 'Psychology', 'Biochemistry', 'Analytical Chemistry']}\n",
      "{'_id': ObjectId('64da31276deb6633679915bc'), 'student_id': 62, 'name': 'Jimmy', 'surname': 'Jams', 'credits_taken': 30, 'course_name': ['Linear Algebra', 'Molecular Biotechnology', 'Quantum Physics', 'Stereochemistry', 'Economics', 'Psychology']}\n",
      "{'_id': ObjectId('64da31276deb6633679915be'), 'student_id': 64, 'name': 'Zizi', 'surname': 'Melou', 'credits_taken': 30, 'course_name': ['Spectroscopy', 'Biochemistry', 'Economics']}\n"
     ]
    }
   ],
   "source": [
    "for entry in results:\n",
    "    print(entry)"
   ]
  },
  {
   "cell_type": "code",
   "execution_count": 58,
   "metadata": {},
   "outputs": [],
   "source": [
    "# selection3: finding students who are studying biochemistry and analytical chemistry\n",
    "\n",
    "results = collection.find({\"course_name\":{\"$all\":['Biochemistry','Analytical Chemistry']}})"
   ]
  },
  {
   "cell_type": "code",
   "execution_count": 59,
   "metadata": {},
   "outputs": [
    {
     "name": "stdout",
     "output_type": "stream",
     "text": [
      "{'_id': ObjectId('64da2e406deb663367991586'), 'student_id': 8, 'name': 'Justin', 'surname': 'Zymus', 'credits_taken': 30, 'course_name': ['Biochemistry', 'Analytical Chemistry', 'Panel readings', 'Analytical Chemistry']}\n",
      "{'_id': ObjectId('64da2e406deb66336799158a'), 'student_id': 12, 'name': 'Olivia', 'surname': 'Smith', 'credits_taken': 30, 'course_name': ['Psychology', 'Biochemistry', 'Psychology', 'Analytical Chemistry']}\n",
      "{'_id': ObjectId('64da31276deb6633679915ba'), 'student_id': 60, 'name': 'Julian', 'surname': 'Birkin', 'credits_taken': 30, 'course_name': ['Microbiology', 'Psychology', 'Biochemistry', 'Analytical Chemistry']}\n"
     ]
    }
   ],
   "source": [
    "for entry in results:\n",
    "    print(entry)"
   ]
  },
  {
   "cell_type": "markdown",
   "metadata": {},
   "source": [
    "Performing at least 3 update operations"
   ]
  },
  {
   "cell_type": "code",
   "execution_count": 60,
   "metadata": {},
   "outputs": [
    {
     "data": {
      "text/plain": [
       "<pymongo.results.UpdateResult at 0x7f43e04cb5e0>"
      ]
     },
     "execution_count": 60,
     "metadata": {},
     "output_type": "execute_result"
    }
   ],
   "source": [
    "# update1: changing student's name from Lucas to Lukas\n",
    "\n",
    "collection.update_one({\"student_id\": 21}, {\"$set\": {\"name\": \"Lukas\"}})"
   ]
  },
  {
   "cell_type": "code",
   "execution_count": 64,
   "metadata": {},
   "outputs": [
    {
     "data": {
      "text/plain": [
       "<pymongo.results.UpdateResult at 0x7f43e044a140>"
      ]
     },
     "execution_count": 64,
     "metadata": {},
     "output_type": "execute_result"
    }
   ],
   "source": [
    "# update2: changing subjects from \"Linear Algebra\" to \"Economics\" since linear algebra is mentioned twice\n",
    "\n",
    "collection.update_one({\"student_id\": 48}, {\"$set\": {'course_name': ['Quantum Physics', 'Microbiology', 'Molecular Biotechnology', 'Linear Algebra', 'Economics']}})"
   ]
  },
  {
   "cell_type": "code",
   "execution_count": 65,
   "metadata": {},
   "outputs": [
    {
     "data": {
      "text/plain": [
       "<pymongo.results.UpdateResult at 0x7f43f83e3c10>"
      ]
     },
     "execution_count": 65,
     "metadata": {},
     "output_type": "execute_result"
    }
   ],
   "source": [
    "# update3: adding a middle name and changing surname\n",
    "\n",
    "collection.update_one({\"student_id\": 60}, {\"$set\": {\"name\": \"Julian Neil\", \"surname\": \"Williams\"}})"
   ]
  },
  {
   "cell_type": "markdown",
   "metadata": {},
   "source": [
    "# Redis"
   ]
  },
  {
   "cell_type": "markdown",
   "metadata": {},
   "source": [
    "Putting same data (final_df) to redis df"
   ]
  },
  {
   "cell_type": "code",
   "execution_count": 66,
   "metadata": {},
   "outputs": [],
   "source": [
    "import redis"
   ]
  },
  {
   "cell_type": "code",
   "execution_count": 67,
   "metadata": {},
   "outputs": [],
   "source": [
    "r = redis.StrictRedis(host= 'localhost', port=6379, db=0)"
   ]
  },
  {
   "cell_type": "markdown",
   "metadata": {},
   "source": [
    "Way1: putting all info extracted from mysql (same final_df table made in Mongo DB exercise) as *whole* in a value."
   ]
  },
  {
   "cell_type": "code",
   "execution_count": 80,
   "metadata": {},
   "outputs": [
    {
     "data": {
      "text/plain": [
       "True"
      ]
     },
     "execution_count": 80,
     "metadata": {},
     "output_type": "execute_result"
    }
   ],
   "source": [
    "import pickle\n",
    "df_encoded = pickle.dumps(final_df)\n",
    "r.set(\"student_data\", df_encoded)"
   ]
  },
  {
   "cell_type": "code",
   "execution_count": 81,
   "metadata": {},
   "outputs": [
    {
     "data": {
      "text/html": [
       "<div>\n",
       "<style scoped>\n",
       "    .dataframe tbody tr th:only-of-type {\n",
       "        vertical-align: middle;\n",
       "    }\n",
       "\n",
       "    .dataframe tbody tr th {\n",
       "        vertical-align: top;\n",
       "    }\n",
       "\n",
       "    .dataframe thead th {\n",
       "        text-align: right;\n",
       "    }\n",
       "</style>\n",
       "<table border=\"1\" class=\"dataframe\">\n",
       "  <thead>\n",
       "    <tr style=\"text-align: right;\">\n",
       "      <th></th>\n",
       "      <th>student_id</th>\n",
       "      <th>name</th>\n",
       "      <th>surname</th>\n",
       "      <th>credits_taken</th>\n",
       "      <th>course_name</th>\n",
       "    </tr>\n",
       "  </thead>\n",
       "  <tbody>\n",
       "    <tr>\n",
       "      <th>0</th>\n",
       "      <td>1</td>\n",
       "      <td>Maria</td>\n",
       "      <td>Jones</td>\n",
       "      <td>30</td>\n",
       "      <td>[Linear Algebra, Microbiology, Panel readings,...</td>\n",
       "    </tr>\n",
       "    <tr>\n",
       "      <th>1</th>\n",
       "      <td>2</td>\n",
       "      <td>Inga</td>\n",
       "      <td>Gonzalez</td>\n",
       "      <td>30</td>\n",
       "      <td>[Spectroscopy, Enzymology, Enzymology]</td>\n",
       "    </tr>\n",
       "    <tr>\n",
       "      <th>2</th>\n",
       "      <td>3</td>\n",
       "      <td>Julia</td>\n",
       "      <td>Pipiro</td>\n",
       "      <td>30</td>\n",
       "      <td>[Enzymology, Electromechanics, Stereochemistry...</td>\n",
       "    </tr>\n",
       "    <tr>\n",
       "      <th>3</th>\n",
       "      <td>4</td>\n",
       "      <td>Chris</td>\n",
       "      <td>Goblin</td>\n",
       "      <td>30</td>\n",
       "      <td>[Linear Algebra, Physics, Panel readings, Anal...</td>\n",
       "    </tr>\n",
       "    <tr>\n",
       "      <th>4</th>\n",
       "      <td>5</td>\n",
       "      <td>Ken</td>\n",
       "      <td>Katty</td>\n",
       "      <td>30</td>\n",
       "      <td>[Psychology, Enzymology, Stereochemistry, Disc...</td>\n",
       "    </tr>\n",
       "    <tr>\n",
       "      <th>5</th>\n",
       "      <td>6</td>\n",
       "      <td>Aliya</td>\n",
       "      <td>Examplier</td>\n",
       "      <td>30</td>\n",
       "      <td>[Physics, Electromechanics, Electromechanics]</td>\n",
       "    </tr>\n",
       "    <tr>\n",
       "      <th>6</th>\n",
       "      <td>7</td>\n",
       "      <td>Thomas</td>\n",
       "      <td>Capitol</td>\n",
       "      <td>30</td>\n",
       "      <td>[Linear Algebra, Electromechanics, Microbiolog...</td>\n",
       "    </tr>\n",
       "    <tr>\n",
       "      <th>7</th>\n",
       "      <td>8</td>\n",
       "      <td>Justin</td>\n",
       "      <td>Zymus</td>\n",
       "      <td>30</td>\n",
       "      <td>[Biochemistry, Analytical Chemistry, Panel rea...</td>\n",
       "    </tr>\n",
       "    <tr>\n",
       "      <th>8</th>\n",
       "      <td>9</td>\n",
       "      <td>Cassandra</td>\n",
       "      <td>Antrapa</td>\n",
       "      <td>30</td>\n",
       "      <td>[Panel readings, Molecular Biotechnology, Phys...</td>\n",
       "    </tr>\n",
       "    <tr>\n",
       "      <th>9</th>\n",
       "      <td>10</td>\n",
       "      <td>Mia</td>\n",
       "      <td>Johnson</td>\n",
       "      <td>30</td>\n",
       "      <td>[Physics, Biochemistry, Stereochemistry]</td>\n",
       "    </tr>\n",
       "    <tr>\n",
       "      <th>10</th>\n",
       "      <td>11</td>\n",
       "      <td>Ethan</td>\n",
       "      <td>Martinez</td>\n",
       "      <td>30</td>\n",
       "      <td>[Analytical Chemistry, Quantum Physics, Discre...</td>\n",
       "    </tr>\n",
       "    <tr>\n",
       "      <th>11</th>\n",
       "      <td>12</td>\n",
       "      <td>Olivia</td>\n",
       "      <td>Smith</td>\n",
       "      <td>30</td>\n",
       "      <td>[Psychology, Biochemistry, Psychology, Analyti...</td>\n",
       "    </tr>\n",
       "    <tr>\n",
       "      <th>12</th>\n",
       "      <td>13</td>\n",
       "      <td>Liam</td>\n",
       "      <td>Anderson</td>\n",
       "      <td>30</td>\n",
       "      <td>[Molecular Biotechnology, Cell Natural and Art...</td>\n",
       "    </tr>\n",
       "    <tr>\n",
       "      <th>13</th>\n",
       "      <td>14</td>\n",
       "      <td>Ava</td>\n",
       "      <td>Williams</td>\n",
       "      <td>30</td>\n",
       "      <td>[Enzymology, Molecular Biotechnology, Panel re...</td>\n",
       "    </tr>\n",
       "    <tr>\n",
       "      <th>14</th>\n",
       "      <td>15</td>\n",
       "      <td>Noah</td>\n",
       "      <td>Thompson</td>\n",
       "      <td>30</td>\n",
       "      <td>[Cell Natural and Artificial Lysis Pathways, A...</td>\n",
       "    </tr>\n",
       "    <tr>\n",
       "      <th>15</th>\n",
       "      <td>16</td>\n",
       "      <td>Sophia</td>\n",
       "      <td>Davis</td>\n",
       "      <td>30</td>\n",
       "      <td>[Panel readings, Economics, Electromechanics, ...</td>\n",
       "    </tr>\n",
       "    <tr>\n",
       "      <th>16</th>\n",
       "      <td>17</td>\n",
       "      <td>Jackson</td>\n",
       "      <td>Taylor</td>\n",
       "      <td>30</td>\n",
       "      <td>[Quantum Physics, Discrete Mathematics, Cell N...</td>\n",
       "    </tr>\n",
       "    <tr>\n",
       "      <th>17</th>\n",
       "      <td>18</td>\n",
       "      <td>Isabella</td>\n",
       "      <td>Hernandez</td>\n",
       "      <td>30</td>\n",
       "      <td>[Panel readings, Electromechanics, Panel readi...</td>\n",
       "    </tr>\n",
       "    <tr>\n",
       "      <th>18</th>\n",
       "      <td>19</td>\n",
       "      <td>Aiden</td>\n",
       "      <td>Brown</td>\n",
       "      <td>30</td>\n",
       "      <td>[Microbiology, Spectroscopy, Physics]</td>\n",
       "    </tr>\n",
       "    <tr>\n",
       "      <th>19</th>\n",
       "      <td>20</td>\n",
       "      <td>Harper</td>\n",
       "      <td>Miller</td>\n",
       "      <td>30</td>\n",
       "      <td>[Analytical Chemistry, Enzymology, Physics, An...</td>\n",
       "    </tr>\n",
       "    <tr>\n",
       "      <th>20</th>\n",
       "      <td>21</td>\n",
       "      <td>Lucas</td>\n",
       "      <td>Wilson</td>\n",
       "      <td>30</td>\n",
       "      <td>[Stereochemistry, Microbiology, Molecular Biot...</td>\n",
       "    </tr>\n",
       "    <tr>\n",
       "      <th>21</th>\n",
       "      <td>22</td>\n",
       "      <td>Amelia</td>\n",
       "      <td>Garcia</td>\n",
       "      <td>30</td>\n",
       "      <td>[Panel readings, Molecular Biotechnology, Enzy...</td>\n",
       "    </tr>\n",
       "    <tr>\n",
       "      <th>22</th>\n",
       "      <td>23</td>\n",
       "      <td>Oliver</td>\n",
       "      <td>Lee</td>\n",
       "      <td>30</td>\n",
       "      <td>[Stereochemistry, Microbiology, Enzymology, An...</td>\n",
       "    </tr>\n",
       "    <tr>\n",
       "      <th>23</th>\n",
       "      <td>24</td>\n",
       "      <td>Emma</td>\n",
       "      <td>Rodriguez</td>\n",
       "      <td>30</td>\n",
       "      <td>[Linear Algebra, Electromechanics, Electromech...</td>\n",
       "    </tr>\n",
       "    <tr>\n",
       "      <th>24</th>\n",
       "      <td>25</td>\n",
       "      <td>Elijah</td>\n",
       "      <td>Martinez</td>\n",
       "      <td>30</td>\n",
       "      <td>[Spectroscopy, Stereochemistry, Biochemistry]</td>\n",
       "    </tr>\n",
       "    <tr>\n",
       "      <th>25</th>\n",
       "      <td>26</td>\n",
       "      <td>Charlotte</td>\n",
       "      <td>Jackson</td>\n",
       "      <td>30</td>\n",
       "      <td>[Linear Algebra, Discrete Mathematics, Electro...</td>\n",
       "    </tr>\n",
       "    <tr>\n",
       "      <th>26</th>\n",
       "      <td>27</td>\n",
       "      <td>Carter</td>\n",
       "      <td>White</td>\n",
       "      <td>30</td>\n",
       "      <td>[Panel readings, Stereochemistry, Linear Algeb...</td>\n",
       "    </tr>\n",
       "    <tr>\n",
       "      <th>27</th>\n",
       "      <td>28</td>\n",
       "      <td>Mia</td>\n",
       "      <td>Adams</td>\n",
       "      <td>30</td>\n",
       "      <td>[Cell Natural and Artificial Lysis Pathways, D...</td>\n",
       "    </tr>\n",
       "    <tr>\n",
       "      <th>28</th>\n",
       "      <td>29</td>\n",
       "      <td>Jack</td>\n",
       "      <td>Lewis</td>\n",
       "      <td>30</td>\n",
       "      <td>[Stereochemistry, Linear Algebra, Biochemistry...</td>\n",
       "    </tr>\n",
       "    <tr>\n",
       "      <th>29</th>\n",
       "      <td>30</td>\n",
       "      <td>Sophia</td>\n",
       "      <td>Hall</td>\n",
       "      <td>30</td>\n",
       "      <td>[Cell Natural and Artificial Lysis Pathways, E...</td>\n",
       "    </tr>\n",
       "    <tr>\n",
       "      <th>30</th>\n",
       "      <td>31</td>\n",
       "      <td>Benjamin</td>\n",
       "      <td>Scott</td>\n",
       "      <td>30</td>\n",
       "      <td>[Psychology, Microbiology, Quantum Physics, Mi...</td>\n",
       "    </tr>\n",
       "    <tr>\n",
       "      <th>31</th>\n",
       "      <td>32</td>\n",
       "      <td>Evelyn</td>\n",
       "      <td>Young</td>\n",
       "      <td>30</td>\n",
       "      <td>[Electromechanics, Spectroscopy, Electromechan...</td>\n",
       "    </tr>\n",
       "    <tr>\n",
       "      <th>32</th>\n",
       "      <td>33</td>\n",
       "      <td>Daniel</td>\n",
       "      <td>Turner</td>\n",
       "      <td>30</td>\n",
       "      <td>[Cell Natural and Artificial Lysis Pathways, S...</td>\n",
       "    </tr>\n",
       "    <tr>\n",
       "      <th>33</th>\n",
       "      <td>34</td>\n",
       "      <td>Scarlett</td>\n",
       "      <td>Moore</td>\n",
       "      <td>30</td>\n",
       "      <td>[Economics, Linear Algebra, Physics, Analytica...</td>\n",
       "    </tr>\n",
       "    <tr>\n",
       "      <th>34</th>\n",
       "      <td>35</td>\n",
       "      <td>Matthew</td>\n",
       "      <td>Mitchell</td>\n",
       "      <td>30</td>\n",
       "      <td>[Enzymology, Enzymology, Economics, Analytical...</td>\n",
       "    </tr>\n",
       "    <tr>\n",
       "      <th>35</th>\n",
       "      <td>36</td>\n",
       "      <td>Grace</td>\n",
       "      <td>Nelson</td>\n",
       "      <td>30</td>\n",
       "      <td>[Spectroscopy, Cell Natural and Artificial Lys...</td>\n",
       "    </tr>\n",
       "    <tr>\n",
       "      <th>36</th>\n",
       "      <td>37</td>\n",
       "      <td>Alexander</td>\n",
       "      <td>King</td>\n",
       "      <td>30</td>\n",
       "      <td>[Physics, Spectroscopy, Electromechanics]</td>\n",
       "    </tr>\n",
       "    <tr>\n",
       "      <th>37</th>\n",
       "      <td>38</td>\n",
       "      <td>Chloe</td>\n",
       "      <td>Hill</td>\n",
       "      <td>30</td>\n",
       "      <td>[Linear Algebra, Spectroscopy, Linear Algebra,...</td>\n",
       "    </tr>\n",
       "    <tr>\n",
       "      <th>38</th>\n",
       "      <td>39</td>\n",
       "      <td>Samuel</td>\n",
       "      <td>Green</td>\n",
       "      <td>30</td>\n",
       "      <td>[Physics, Analytical Chemistry, Linear Algebra...</td>\n",
       "    </tr>\n",
       "    <tr>\n",
       "      <th>39</th>\n",
       "      <td>40</td>\n",
       "      <td>Lily</td>\n",
       "      <td>Carter</td>\n",
       "      <td>30</td>\n",
       "      <td>[Electromechanics, Spectroscopy, Molecular Bio...</td>\n",
       "    </tr>\n",
       "    <tr>\n",
       "      <th>40</th>\n",
       "      <td>41</td>\n",
       "      <td>Michael</td>\n",
       "      <td>Brooks</td>\n",
       "      <td>30</td>\n",
       "      <td>[Economics, Electromechanics, Microbiology, An...</td>\n",
       "    </tr>\n",
       "    <tr>\n",
       "      <th>41</th>\n",
       "      <td>42</td>\n",
       "      <td>Abigail</td>\n",
       "      <td>Wright</td>\n",
       "      <td>30</td>\n",
       "      <td>[Panel readings, Economics, Psychology, Panel ...</td>\n",
       "    </tr>\n",
       "    <tr>\n",
       "      <th>42</th>\n",
       "      <td>43</td>\n",
       "      <td>William</td>\n",
       "      <td>Parker</td>\n",
       "      <td>30</td>\n",
       "      <td>[Discrete Mathematics, Physics, Electromechanics]</td>\n",
       "    </tr>\n",
       "    <tr>\n",
       "      <th>43</th>\n",
       "      <td>44</td>\n",
       "      <td>Emily</td>\n",
       "      <td>Ramirez</td>\n",
       "      <td>30</td>\n",
       "      <td>[Economics, Panel readings, Quantum Physics, P...</td>\n",
       "    </tr>\n",
       "    <tr>\n",
       "      <th>44</th>\n",
       "      <td>45</td>\n",
       "      <td>James</td>\n",
       "      <td>Kelly</td>\n",
       "      <td>30</td>\n",
       "      <td>[Linear Algebra, Analytical Chemistry, Physics...</td>\n",
       "    </tr>\n",
       "    <tr>\n",
       "      <th>45</th>\n",
       "      <td>46</td>\n",
       "      <td>Ella</td>\n",
       "      <td>Foster</td>\n",
       "      <td>30</td>\n",
       "      <td>[Electromechanics, Psychology, Microbiology, P...</td>\n",
       "    </tr>\n",
       "    <tr>\n",
       "      <th>46</th>\n",
       "      <td>47</td>\n",
       "      <td>Logan</td>\n",
       "      <td>Cooper</td>\n",
       "      <td>30</td>\n",
       "      <td>[Stereochemistry, Electromechanics, Molecular ...</td>\n",
       "    </tr>\n",
       "    <tr>\n",
       "      <th>47</th>\n",
       "      <td>48</td>\n",
       "      <td>Elizabeth</td>\n",
       "      <td>Hayes</td>\n",
       "      <td>30</td>\n",
       "      <td>[Quantum Physics, Microbiology, Molecular Biot...</td>\n",
       "    </tr>\n",
       "    <tr>\n",
       "      <th>48</th>\n",
       "      <td>49</td>\n",
       "      <td>David</td>\n",
       "      <td>Bennett</td>\n",
       "      <td>30</td>\n",
       "      <td>[Panel readings, Linear Algebra, Psychology, S...</td>\n",
       "    </tr>\n",
       "    <tr>\n",
       "      <th>49</th>\n",
       "      <td>50</td>\n",
       "      <td>Victoria</td>\n",
       "      <td>Flores</td>\n",
       "      <td>30</td>\n",
       "      <td>[Microbiology, Economics, Analytical Chemistry...</td>\n",
       "    </tr>\n",
       "    <tr>\n",
       "      <th>50</th>\n",
       "      <td>51</td>\n",
       "      <td>Joseph</td>\n",
       "      <td>Reed</td>\n",
       "      <td>30</td>\n",
       "      <td>[Biochemistry, Enzymology, Molecular Biotechno...</td>\n",
       "    </tr>\n",
       "    <tr>\n",
       "      <th>51</th>\n",
       "      <td>52</td>\n",
       "      <td>Madison</td>\n",
       "      <td>Rivera</td>\n",
       "      <td>30</td>\n",
       "      <td>[Panel readings, Microbiology, Economics, Psyc...</td>\n",
       "    </tr>\n",
       "    <tr>\n",
       "      <th>52</th>\n",
       "      <td>53</td>\n",
       "      <td>Henry</td>\n",
       "      <td>Price</td>\n",
       "      <td>30</td>\n",
       "      <td>[Electromechanics, Cell Natural and Artificial...</td>\n",
       "    </tr>\n",
       "    <tr>\n",
       "      <th>53</th>\n",
       "      <td>54</td>\n",
       "      <td>Avery</td>\n",
       "      <td>Coleman</td>\n",
       "      <td>30</td>\n",
       "      <td>[Cell Natural and Artificial Lysis Pathways, P...</td>\n",
       "    </tr>\n",
       "    <tr>\n",
       "      <th>54</th>\n",
       "      <td>55</td>\n",
       "      <td>Gabriel</td>\n",
       "      <td>Rogers</td>\n",
       "      <td>30</td>\n",
       "      <td>[Stereochemistry, Linear Algebra, Spectroscopy...</td>\n",
       "    </tr>\n",
       "    <tr>\n",
       "      <th>55</th>\n",
       "      <td>56</td>\n",
       "      <td>Zoey</td>\n",
       "      <td>Ward</td>\n",
       "      <td>30</td>\n",
       "      <td>[Panel readings, Economics, Physics, Quantum P...</td>\n",
       "    </tr>\n",
       "    <tr>\n",
       "      <th>56</th>\n",
       "      <td>57</td>\n",
       "      <td>Christopher</td>\n",
       "      <td>Ross</td>\n",
       "      <td>30</td>\n",
       "      <td>[Panel readings, Spectroscopy, Panel readings,...</td>\n",
       "    </tr>\n",
       "    <tr>\n",
       "      <th>57</th>\n",
       "      <td>58</td>\n",
       "      <td>Penelope</td>\n",
       "      <td>Evans</td>\n",
       "      <td>30</td>\n",
       "      <td>[Psychology, Analytical Chemistry, Cell Natura...</td>\n",
       "    </tr>\n",
       "    <tr>\n",
       "      <th>58</th>\n",
       "      <td>59</td>\n",
       "      <td>Andrew</td>\n",
       "      <td>Powell</td>\n",
       "      <td>30</td>\n",
       "      <td>[Economics, Physics, Quantum Physics, Stereoch...</td>\n",
       "    </tr>\n",
       "  </tbody>\n",
       "</table>\n",
       "</div>"
      ],
      "text/plain": [
       "    student_id         name    surname  credits_taken   \n",
       "0            1        Maria      Jones             30  \\\n",
       "1            2         Inga   Gonzalez             30   \n",
       "2            3        Julia     Pipiro             30   \n",
       "3            4        Chris     Goblin             30   \n",
       "4            5          Ken      Katty             30   \n",
       "5            6        Aliya  Examplier             30   \n",
       "6            7       Thomas    Capitol             30   \n",
       "7            8       Justin      Zymus             30   \n",
       "8            9    Cassandra    Antrapa             30   \n",
       "9           10          Mia    Johnson             30   \n",
       "10          11        Ethan   Martinez             30   \n",
       "11          12       Olivia      Smith             30   \n",
       "12          13         Liam   Anderson             30   \n",
       "13          14          Ava   Williams             30   \n",
       "14          15         Noah   Thompson             30   \n",
       "15          16       Sophia      Davis             30   \n",
       "16          17      Jackson     Taylor             30   \n",
       "17          18     Isabella  Hernandez             30   \n",
       "18          19        Aiden      Brown             30   \n",
       "19          20       Harper     Miller             30   \n",
       "20          21        Lucas     Wilson             30   \n",
       "21          22       Amelia     Garcia             30   \n",
       "22          23       Oliver        Lee             30   \n",
       "23          24         Emma  Rodriguez             30   \n",
       "24          25       Elijah   Martinez             30   \n",
       "25          26    Charlotte    Jackson             30   \n",
       "26          27       Carter      White             30   \n",
       "27          28          Mia      Adams             30   \n",
       "28          29         Jack      Lewis             30   \n",
       "29          30       Sophia       Hall             30   \n",
       "30          31     Benjamin      Scott             30   \n",
       "31          32       Evelyn      Young             30   \n",
       "32          33       Daniel     Turner             30   \n",
       "33          34     Scarlett      Moore             30   \n",
       "34          35      Matthew   Mitchell             30   \n",
       "35          36        Grace     Nelson             30   \n",
       "36          37    Alexander       King             30   \n",
       "37          38        Chloe       Hill             30   \n",
       "38          39       Samuel      Green             30   \n",
       "39          40         Lily     Carter             30   \n",
       "40          41      Michael     Brooks             30   \n",
       "41          42      Abigail     Wright             30   \n",
       "42          43      William     Parker             30   \n",
       "43          44        Emily    Ramirez             30   \n",
       "44          45        James      Kelly             30   \n",
       "45          46         Ella     Foster             30   \n",
       "46          47        Logan     Cooper             30   \n",
       "47          48    Elizabeth      Hayes             30   \n",
       "48          49        David    Bennett             30   \n",
       "49          50     Victoria     Flores             30   \n",
       "50          51       Joseph       Reed             30   \n",
       "51          52      Madison     Rivera             30   \n",
       "52          53        Henry      Price             30   \n",
       "53          54        Avery    Coleman             30   \n",
       "54          55      Gabriel     Rogers             30   \n",
       "55          56         Zoey       Ward             30   \n",
       "56          57  Christopher       Ross             30   \n",
       "57          58     Penelope      Evans             30   \n",
       "58          59       Andrew     Powell             30   \n",
       "\n",
       "                                          course_name  \n",
       "0   [Linear Algebra, Microbiology, Panel readings,...  \n",
       "1              [Spectroscopy, Enzymology, Enzymology]  \n",
       "2   [Enzymology, Electromechanics, Stereochemistry...  \n",
       "3   [Linear Algebra, Physics, Panel readings, Anal...  \n",
       "4   [Psychology, Enzymology, Stereochemistry, Disc...  \n",
       "5       [Physics, Electromechanics, Electromechanics]  \n",
       "6   [Linear Algebra, Electromechanics, Microbiolog...  \n",
       "7   [Biochemistry, Analytical Chemistry, Panel rea...  \n",
       "8   [Panel readings, Molecular Biotechnology, Phys...  \n",
       "9            [Physics, Biochemistry, Stereochemistry]  \n",
       "10  [Analytical Chemistry, Quantum Physics, Discre...  \n",
       "11  [Psychology, Biochemistry, Psychology, Analyti...  \n",
       "12  [Molecular Biotechnology, Cell Natural and Art...  \n",
       "13  [Enzymology, Molecular Biotechnology, Panel re...  \n",
       "14  [Cell Natural and Artificial Lysis Pathways, A...  \n",
       "15  [Panel readings, Economics, Electromechanics, ...  \n",
       "16  [Quantum Physics, Discrete Mathematics, Cell N...  \n",
       "17  [Panel readings, Electromechanics, Panel readi...  \n",
       "18              [Microbiology, Spectroscopy, Physics]  \n",
       "19  [Analytical Chemistry, Enzymology, Physics, An...  \n",
       "20  [Stereochemistry, Microbiology, Molecular Biot...  \n",
       "21  [Panel readings, Molecular Biotechnology, Enzy...  \n",
       "22  [Stereochemistry, Microbiology, Enzymology, An...  \n",
       "23  [Linear Algebra, Electromechanics, Electromech...  \n",
       "24      [Spectroscopy, Stereochemistry, Biochemistry]  \n",
       "25  [Linear Algebra, Discrete Mathematics, Electro...  \n",
       "26  [Panel readings, Stereochemistry, Linear Algeb...  \n",
       "27  [Cell Natural and Artificial Lysis Pathways, D...  \n",
       "28  [Stereochemistry, Linear Algebra, Biochemistry...  \n",
       "29  [Cell Natural and Artificial Lysis Pathways, E...  \n",
       "30  [Psychology, Microbiology, Quantum Physics, Mi...  \n",
       "31  [Electromechanics, Spectroscopy, Electromechan...  \n",
       "32  [Cell Natural and Artificial Lysis Pathways, S...  \n",
       "33  [Economics, Linear Algebra, Physics, Analytica...  \n",
       "34  [Enzymology, Enzymology, Economics, Analytical...  \n",
       "35  [Spectroscopy, Cell Natural and Artificial Lys...  \n",
       "36          [Physics, Spectroscopy, Electromechanics]  \n",
       "37  [Linear Algebra, Spectroscopy, Linear Algebra,...  \n",
       "38  [Physics, Analytical Chemistry, Linear Algebra...  \n",
       "39  [Electromechanics, Spectroscopy, Molecular Bio...  \n",
       "40  [Economics, Electromechanics, Microbiology, An...  \n",
       "41  [Panel readings, Economics, Psychology, Panel ...  \n",
       "42  [Discrete Mathematics, Physics, Electromechanics]  \n",
       "43  [Economics, Panel readings, Quantum Physics, P...  \n",
       "44  [Linear Algebra, Analytical Chemistry, Physics...  \n",
       "45  [Electromechanics, Psychology, Microbiology, P...  \n",
       "46  [Stereochemistry, Electromechanics, Molecular ...  \n",
       "47  [Quantum Physics, Microbiology, Molecular Biot...  \n",
       "48  [Panel readings, Linear Algebra, Psychology, S...  \n",
       "49  [Microbiology, Economics, Analytical Chemistry...  \n",
       "50  [Biochemistry, Enzymology, Molecular Biotechno...  \n",
       "51  [Panel readings, Microbiology, Economics, Psyc...  \n",
       "52  [Electromechanics, Cell Natural and Artificial...  \n",
       "53  [Cell Natural and Artificial Lysis Pathways, P...  \n",
       "54  [Stereochemistry, Linear Algebra, Spectroscopy...  \n",
       "55  [Panel readings, Economics, Physics, Quantum P...  \n",
       "56  [Panel readings, Spectroscopy, Panel readings,...  \n",
       "57  [Psychology, Analytical Chemistry, Cell Natura...  \n",
       "58  [Economics, Physics, Quantum Physics, Stereoch...  "
      ]
     },
     "execution_count": 81,
     "metadata": {},
     "output_type": "execute_result"
    }
   ],
   "source": [
    "# retrieving the info\n",
    "retrieved_info = r.get(\"student_data\")\n",
    "final = pickle.loads(retrieved_info)\n",
    "final"
   ]
  },
  {
   "cell_type": "code",
   "execution_count": 82,
   "metadata": {},
   "outputs": [
    {
     "data": {
      "text/plain": [
       "1"
      ]
     },
     "execution_count": 82,
     "metadata": {},
     "output_type": "execute_result"
    }
   ],
   "source": [
    "# deleting the key\n",
    "r.delete(\"student_data\")"
   ]
  },
  {
   "cell_type": "markdown",
   "metadata": {},
   "source": [
    "Way2: transforming final_df even more and adding only a row (entry) as a value."
   ]
  },
  {
   "cell_type": "code",
   "execution_count": 88,
   "metadata": {},
   "outputs": [],
   "source": [
    "for index, row in final_df.iterrows():\n",
    "    student_id = row[\"student_id\"]\n",
    "    row[\"course_name\"] = '/'.join(row[\"course_name\"]) #changing to string because list is not acceptable to redis\n",
    "    data = {\"name\": row[\"name\"], \"surname\": row[\"surname\"], \"credits_taken\": row[\"credits_taken\"], \"course_name\": row[\"course_name\"]}\n",
    "\n",
    "    for key, value in data.items():\n",
    "        r.hset(student_id, key, value)"
   ]
  },
  {
   "cell_type": "code",
   "execution_count": 93,
   "metadata": {},
   "outputs": [
    {
     "data": {
      "text/plain": [
       "{b'name': b'Mia',\n",
       " b'surname': b'Johnson',\n",
       " b'credits_taken': b'30',\n",
       " b'course_name': b'Physics/Biochemistry/Stereochemistry'}"
      ]
     },
     "execution_count": 93,
     "metadata": {},
     "output_type": "execute_result"
    }
   ],
   "source": [
    "#retrieving some entries\n",
    "student_10 = r.hgetall(10)\n",
    "student_10"
   ]
  },
  {
   "cell_type": "code",
   "execution_count": 94,
   "metadata": {},
   "outputs": [
    {
     "data": {
      "text/plain": [
       "{b'credits_taken': b'30',\n",
       " b'name': b'Gabriel',\n",
       " b'course_name': b'Stereochemistry/Linear Algebra/Spectroscopy/Psychology/Molecular Biotechnology',\n",
       " b'surname': b'Rogers'}"
      ]
     },
     "execution_count": 94,
     "metadata": {},
     "output_type": "execute_result"
    }
   ],
   "source": [
    "student_55 = r.hgetall(55)\n",
    "student_55"
   ]
  },
  {
   "cell_type": "code",
   "execution_count": 95,
   "metadata": {},
   "outputs": [
    {
     "data": {
      "text/plain": [
       "1"
      ]
     },
     "execution_count": 95,
     "metadata": {},
     "output_type": "execute_result"
    }
   ],
   "source": [
    "#deleting entry\n",
    "\n",
    "r.delete(10)"
   ]
  },
  {
   "cell_type": "code",
   "execution_count": 97,
   "metadata": {},
   "outputs": [
    {
     "data": {
      "text/plain": [
       "{}"
      ]
     },
     "execution_count": 97,
     "metadata": {},
     "output_type": "execute_result"
    }
   ],
   "source": [
    "student_10 = r.hgetall(10)\n",
    "student_10"
   ]
  }
 ],
 "metadata": {
  "kernelspec": {
   "display_name": "Python 3",
   "language": "python",
   "name": "python3"
  },
  "language_info": {
   "codemirror_mode": {
    "name": "ipython",
    "version": 3
   },
   "file_extension": ".py",
   "mimetype": "text/x-python",
   "name": "python",
   "nbconvert_exporter": "python",
   "pygments_lexer": "ipython3",
   "version": "3.10.12"
  },
  "orig_nbformat": 4
 },
 "nbformat": 4,
 "nbformat_minor": 2
}
