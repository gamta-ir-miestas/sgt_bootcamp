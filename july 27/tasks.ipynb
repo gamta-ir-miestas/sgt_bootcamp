{
 "cells": [
  {
   "cell_type": "markdown",
   "metadata": {},
   "source": [
    "Transactions (to be performed in Python):\n",
    "\n",
    "1. **Task: Bank Transactions**\n",
    "You are tasked with implementing a banking system that allows customers to transfer funds between accounts.\n",
    "Design a SQL transaction to ensure that the amount is deducted from the sender's account and added to the receiver's account in an atomic manner.\n",
    "If any part of the transaction fails, rollback the changes to maintain data integrity.\n",
    "\n",
    "2. **Task: Order Processing**\n",
    "You are developing an online shopping platform.\n",
    "Create a SQL transaction that updates the inventory of products when a customer places an order.\n",
    "Deduct the ordered quantity from the product stock and update the order status.\n",
    "If any part of the transaction fails (e.g., insufficient stock), roll back the changes to ensure consistent data.\n",
    "\n",
    "3. **Task: Employee Salary Adjustment**\n",
    "Your HR department needs to apply a salary adjustment to all employees based on their performance.\n",
    "Design a SQL transaction that updates the salary of each employee with the corresponding adjustment and logs the changes. If there is any issue while updating salaries, roll back the changes to maintain the previous salary data.\n",
    "\n",
    "4. **Task: Flight Reservation**\n",
    "You are building a flight reservation system. Create a SQL transaction that reserves a seat for a passenger on a flight.\n",
    "Deduct the seat availability, update the reservation record, and log the booking details.\n",
    "If any part of the transaction fails (e.g., seat already taken), roll back the changes and notify the user of the failure.\n",
    "\n",
    "5. **Task: Product Returns**\n",
    "You are developing an e-commerce platform. Implement a SQL transaction to process product returns initiated by customers.\n",
    "Update the product's return status, refund the customer's payment, and log the return details.\n",
    "If any part of the transaction fails (e.g., invalid return request), roll back the changes and handle the error gracefully.\n",
    "\n",
    "6. **Task: Student Enrollment**\n",
    "Design a SQL transaction to handle the enrollment of new students in a university.\n",
    "Update the student enrollment records, assign courses, and update the tuition fee payment status. \n",
    "If any part of the transaction fails (e.g., course limit reached), roll back the changes to ensure no invalid enrollments are recorded.\n",
    "\n",
    "Non SQL database:\n",
    "\n",
    "In Python, design your own design of the database (using the files) and perform some practical examples with it. "
   ]
  },
  {
   "cell_type": "markdown",
   "metadata": {},
   "source": [
    "# Preparations for tasks: code automation"
   ]
  },
  {
   "cell_type": "code",
   "execution_count": 10,
   "metadata": {},
   "outputs": [],
   "source": [
    "import mysql.connector"
   ]
  },
  {
   "cell_type": "code",
   "execution_count": 17,
   "metadata": {},
   "outputs": [],
   "source": [
    "class db_updater:\n",
    "\n",
    "    def __init__(self, db):\n",
    "        self.db = db\n",
    "\n",
    "    def sql_query(self, query, commit = True, fetch = False, insert_list = False, listt = None):\n",
    "        try:\n",
    "            conn = mysql.connector.connect(host='localhost',\n",
    "                                        database= self.db,\n",
    "                                        user='root',\n",
    "                                        password='')\n",
    "\n",
    "            conn.autocommit = False\n",
    "            cursor = conn.cursor(buffered= True)\n",
    "\n",
    "            # for inserting many rows in table automatically\n",
    "            if insert_list == True:\n",
    "                cursor.executemany(query, listt)\n",
    "            else:\n",
    "                cursor.execute(query)\n",
    "\n",
    "            # for transaction\n",
    "            if commit == True:\n",
    "                conn.commit()\n",
    "\n",
    "            # for gathering information, observations\n",
    "            if fetch == True:\n",
    "                result = cursor.fetchall()[0]\n",
    "                columns = [col[0] for col in cursor.description]\n",
    "                result_with_columns = [columns] + list(result)\n",
    "\n",
    "                for row in result_with_columns:\n",
    "                    print(row)\n",
    "\n",
    "        except mysql.connector.Error as error:\n",
    "            print(\"Failed to update record to database rollback: {}\".format(error))\n",
    "            conn.rollback()\n",
    "        finally:\n",
    "            if conn.is_connected():\n",
    "                cursor.close()\n",
    "                conn.close()\n",
    "                print(\"connection is closed\")"
   ]
  },
  {
   "cell_type": "markdown",
   "metadata": {},
   "source": [
    "# 1st task"
   ]
  },
  {
   "cell_type": "markdown",
   "metadata": {},
   "source": [
    "1. **Task: Bank Transactions**\n",
    "You are tasked with implementing a banking system that allows customers to transfer funds between accounts.\n",
    "Design a SQL transaction to ensure that the amount is deducted from the sender's account and added to the receiver's account in an atomic manner.\n",
    "If any part of the transaction fails, rollback the changes to maintain data integrity."
   ]
  },
  {
   "cell_type": "code",
   "execution_count": 8,
   "metadata": {},
   "outputs": [],
   "source": [
    "btra = db_updater('bank_transactions_2023')"
   ]
  },
  {
   "cell_type": "code",
   "execution_count": 12,
   "metadata": {},
   "outputs": [
    {
     "name": "stdout",
     "output_type": "stream",
     "text": [
      "connection is closed\n",
      "connection is closed\n"
     ]
    }
   ],
   "source": [
    "# create tables\n",
    "\n",
    "query_users = btra.sql_query(\"\"\"CREATE TABLE users\n",
    "                             (account_id INT AUTO_INCREMENT PRIMARY KEY,\n",
    "                             name VARCHAR(50),\n",
    "                             surname VARCHAR(100),\n",
    "                             birthdate DATE,\n",
    "                             email VARCHAR(100),\n",
    "                             balance INT);\n",
    "                                \"\"\")\n",
    "\n",
    "query_money_operations = btra.sql_query(\"\"\"CREATE TABLE money_operations\n",
    "                                        (timestamp TIMESTAMP PRIMARY KEY,\n",
    "                                        sender INT,\n",
    "                                        receiver INT,\n",
    "                                        amount INT);\n",
    "                                        \"\"\")"
   ]
  },
  {
   "cell_type": "code",
   "execution_count": 9,
   "metadata": {},
   "outputs": [
    {
     "name": "stdout",
     "output_type": "stream",
     "text": [
      "['account_id', 'name', 'surname', 'birthdate']\n",
      "(1, 'test', 'tester', datetime.date(1998, 5, 31))\n",
      "(2, 'hello', 'kitty', datetime.date(1995, 1, 3))\n",
      "connection is closed\n"
     ]
    }
   ],
   "source": [
    "query1 = btra.sql_query(\"select * from users;\", commit = False, fetch = True)"
   ]
  },
  {
   "cell_type": "code",
   "execution_count": 23,
   "metadata": {},
   "outputs": [
    {
     "name": "stdout",
     "output_type": "stream",
     "text": [
      "connection is closed\n"
     ]
    }
   ],
   "source": [
    "# example people\n",
    "query_people = btra.sql_query(\"\"\"INSERT INTO users (name, surname, birthdate, email, balance) VALUES\n",
    "                              (\"Billy\", \"Bill\", \"1996-12-25\", \"example@exampler.hyh\", 12345),\n",
    "                              (\"Katniss\", \"Everdeen\", \"1994-04-15\", \"imhungry@games.lol\", 100054),\n",
    "                              (\"Rich\", \"Richard\", \"1956-03-31\", \"richestofemall@million.cgf\", 5);\n",
    "                                        \"\"\")"
   ]
  },
  {
   "cell_type": "code",
   "execution_count": 23,
   "metadata": {},
   "outputs": [],
   "source": [
    "def transfer_funds(sender_account, receiver_account, amount):\n",
    "    try:\n",
    "        conn = mysql.connector.connect(host='localhost',\n",
    "                                        database= 'bank_transactions_2023',\n",
    "                                        user='root',\n",
    "                                        password='')\n",
    "        \n",
    "        cursor = conn.cursor()\n",
    "        conn.start_transaction()\n",
    "\n",
    "        cursor.execute(\"SELECT balance FROM users WHERE account_id = %s\", (sender_account,))\n",
    "        sender_balance = cursor.fetchone()[0]\n",
    "        print(sender_balance)\n",
    "        if sender_balance < amount:\n",
    "            raise ValueError(\"Insufficient funds in the sender's account.\")\n",
    "        \n",
    "        sender_balance -= amount\n",
    "        cursor.execute(\"UPDATE users SET balance = %s WHERE account_id = %s\", (sender_balance, sender_account))\n",
    "\n",
    "        cursor.execute(\"SELECT balance FROM users WHERE account_id = %s\", (receiver_account,))\n",
    "        receiver_balance = cursor.fetchone()[0]\n",
    "        \n",
    "        receiver_balance += amount\n",
    "        cursor.execute(\"UPDATE users SET balance = %s WHERE account_id = %s\", (receiver_balance, receiver_account))\n",
    "        \n",
    "        cursor.execute(\"INSERT INTO money_operations VALUES (NOW(), {}, {}, {})\".format(sender_account, receiver_account, amount))\n",
    "\n",
    "        conn.commit()\n",
    "\n",
    "        print(\"Transfer successful.\")\n",
    "    except Exception as e:\n",
    "        conn.rollback()\n",
    "        print(f\"Transfer failed: {e}\")\n",
    "    finally:\n",
    "        cursor.close()\n",
    "        conn.close()\n"
   ]
  },
  {
   "cell_type": "code",
   "execution_count": 24,
   "metadata": {},
   "outputs": [
    {
     "name": "stdout",
     "output_type": "stream",
     "text": [
      "700\n",
      "Transfer successful.\n"
     ]
    }
   ],
   "source": [
    "# Example usage:\n",
    "sender_account = '1'\n",
    "receiver_account = '3'\n",
    "amount_to_transfer = 100.0\n",
    "\n",
    "transfer_funds(sender_account, receiver_account, amount_to_transfer)"
   ]
  },
  {
   "cell_type": "markdown",
   "metadata": {},
   "source": [
    "# 2nd task"
   ]
  },
  {
   "cell_type": "markdown",
   "metadata": {},
   "source": [
    "2. **Task: Order Processing**\n",
    "You are developing an online shopping platform.\n",
    "Create a SQL transaction that updates the inventory of products when a customer places an order.\n",
    "Deduct the ordered quantity from the product stock and update the order status.\n",
    "If any part of the transaction fails (e.g., insufficient stock), roll back the changes to ensure consistent data."
   ]
  },
  {
   "cell_type": "code",
   "execution_count": 4,
   "metadata": {},
   "outputs": [],
   "source": [
    "orpro = db_updater('order_processing_2023')"
   ]
  },
  {
   "cell_type": "code",
   "execution_count": 30,
   "metadata": {},
   "outputs": [
    {
     "name": "stdout",
     "output_type": "stream",
     "text": [
      "connection is closed\n",
      "connection is closed\n",
      "connection is closed\n"
     ]
    }
   ],
   "source": [
    "# create tables\n",
    "\n",
    "query_products = orpro.sql_query(\"\"\"CREATE TABLE products\n",
    "                                (product_id INT AUTO_INCREMENT PRIMARY KEY,\n",
    "                                product_name VARCHAR(50),\n",
    "                                category VARCHAR(50),\n",
    "                                price FLOAT,\n",
    "                                amount INT);\n",
    "                                \"\"\")\n",
    "\n",
    "query_customers = orpro.sql_query(\"\"\"CREATE TABLE customers\n",
    "                                    (customer_id INT AUTO_INCREMENT PRIMARY KEY,\n",
    "                                    name VARCHAR(50),\n",
    "                                    surname VARCHAR(100),\n",
    "                                    email VARCHAR(100));\n",
    "                                    \"\"\")\n",
    "\n",
    "query_money_orders = orpro.sql_query(\"\"\"CREATE TABLE orders\n",
    "                                        (order_id INT AUTO_INCREMENT PRIMARY KEY,\n",
    "                                        customer_id INT,\n",
    "                                        product_id INT,\n",
    "                                        ordered_amount INT,\n",
    "                                        status VARCHAR(30));\n",
    "                                        \"\"\")"
   ]
  },
  {
   "cell_type": "code",
   "execution_count": 31,
   "metadata": {},
   "outputs": [
    {
     "name": "stdout",
     "output_type": "stream",
     "text": [
      "connection is closed\n",
      "connection is closed\n"
     ]
    }
   ],
   "source": [
    "# example data\n",
    "\n",
    "query_customers = orpro.sql_query(\"\"\"INSERT INTO customers (name, surname, email) VALUES\n",
    "                                (\"Billy\", \"Bill\", \"example@exampler.hyh\"),\n",
    "                                (\"Katniss\", \"Everdeen\", \"imhungry@games.lol\"),\n",
    "                                (\"Rich\", \"Richard\", \"richestofemall@million.cgf\");\n",
    "                                \"\"\")\n",
    "\n",
    "query_products = orpro.sql_query(\"\"\"INSERT INTO products (product_name, category, price, amount) VALUES\n",
    "                                (\"Barbie doll\", \"Toys\", 29.99, 12),\n",
    "                                (\"Keyboard 123\", \"Electronics\", 99.99, 2),\n",
    "                                (\"Banana shaped pencil case\", \"Stationery\", 6.99, 99),\n",
    "                                (\"Orange pen\", \"stationery\", 0.69, 9001);\n",
    "                                \"\"\")"
   ]
  },
  {
   "cell_type": "code",
   "execution_count": 3,
   "metadata": {},
   "outputs": [],
   "source": [
    "def order_now():\n",
    "\n",
    "    customer_account = input(\"Please write your customer id: \")\n",
    "    product = input(\"Please write the ID of which product you would like to order: \")\n",
    "    amount = input(\"How many products you would like you order? \")\n",
    "\n",
    "    try:\n",
    "        conn = mysql.connector.connect(host='localhost',\n",
    "                                        database= 'order_processing_2023',\n",
    "                                        user='root',\n",
    "                                        password='')\n",
    "        \n",
    "        cursor = conn.cursor()\n",
    "\n",
    "        conn.start_transaction()\n",
    "\n",
    "        cursor.execute(\"SELECT amount FROM products WHERE product_id = %s\", (product,))\n",
    "        product_inventory = cursor.fetchone()[0]\n",
    "        \n",
    "        if product_inventory < int(amount):\n",
    "            raise ValueError(\"Sorry, we do not have requested amount of items in stock.\")\n",
    "        \n",
    "        product_inventory -= int(amount)\n",
    "        cursor.execute(\"UPDATE products SET amount = %s WHERE product_id = %s\", (product_inventory, product))\n",
    "        \n",
    "        cursor.execute(\"INSERT INTO orders (customer_id, product_id, ordered_amount, status) VALUES ({}, {}, {}, 'ordered')\".format(customer_account, product, amount))\n",
    "\n",
    "        conn.commit()\n",
    "\n",
    "        print(\"Transfer successful.\")\n",
    "    except Exception as e:\n",
    "        conn.rollback()\n",
    "        print(f\"Transfer failed: {e}\")\n",
    "    finally:\n",
    "        cursor.close()\n",
    "        conn.close()"
   ]
  },
  {
   "cell_type": "code",
   "execution_count": 34,
   "metadata": {},
   "outputs": [
    {
     "name": "stdout",
     "output_type": "stream",
     "text": [
      "Transfer successful.\n"
     ]
    }
   ],
   "source": [
    "#let's make some orders :)\n",
    "\n",
    "order1 = order_now()"
   ]
  },
  {
   "cell_type": "markdown",
   "metadata": {},
   "source": [
    "# 3rd task"
   ]
  },
  {
   "cell_type": "markdown",
   "metadata": {},
   "source": [
    "3. **Task: Employee Salary Adjustment**\n",
    "Your HR department needs to apply a salary adjustment to all employees based on their performance.\n",
    "Design a SQL transaction that updates the salary of each employee with the corresponding adjustment and logs the changes. If there is any issue while updating salaries, roll back the changes to maintain the previous salary data."
   ]
  },
  {
   "cell_type": "code",
   "execution_count": 36,
   "metadata": {},
   "outputs": [],
   "source": [
    "sala = db_updater('salary_tracking_2023')"
   ]
  },
  {
   "cell_type": "code",
   "execution_count": 8,
   "metadata": {},
   "outputs": [
    {
     "name": "stdout",
     "output_type": "stream",
     "text": [
      "Failed to update record to database rollback: 1050 (42S01): Table 'employees' already exists\n",
      "connection is closed\n",
      "connection is closed\n"
     ]
    }
   ],
   "source": [
    "# create tables\n",
    "\n",
    "query_employees = sala.sql_query(\"\"\"CREATE TABLE employees\n",
    "                                (employee_id INT AUTO_INCREMENT PRIMARY KEY,\n",
    "                                name VARCHAR(50),\n",
    "                                surname VARCHAR(100),\n",
    "                                salary FLOAT);\n",
    "                                \"\"\")\n",
    "\n",
    "query_tracking = sala.sql_query(\"\"\"CREATE TABLE tracking\n",
    "                                    (change_id INT AUTO_INCREMENT PRIMARY KEY,\n",
    "                                    employee_id INT,\n",
    "                                    timestamp TIMESTAMP,\n",
    "                                    salary FLOAT);\n",
    "                                    \"\"\")\n",
    "\n"
   ]
  },
  {
   "cell_type": "code",
   "execution_count": 7,
   "metadata": {},
   "outputs": [
    {
     "name": "stdout",
     "output_type": "stream",
     "text": [
      "connection is closed\n"
     ]
    }
   ],
   "source": [
    "# example data\n",
    "# salary per month, in euro\n",
    "\n",
    "query_example = sala.sql_query(\"\"\"INSERT INTO employees (name, surname, salary) VALUES\n",
    "                                (\"Billy\", \"Bill\", 2000),\n",
    "                                (\"Katniss\", \"Everdeen\", 2500),\n",
    "                                (\"Rich\", \"Richard\", 1005),\n",
    "                                (\"Example\", \"Examplier\", 6000);\n",
    "                                \"\"\")"
   ]
  },
  {
   "cell_type": "code",
   "execution_count": 37,
   "metadata": {},
   "outputs": [],
   "source": [
    "def update_salary(employee_id, proposed_salary):\n",
    "\n",
    "    try:\n",
    "        conn = mysql.connector.connect(host='localhost',\n",
    "                                        database= 'salary_tracking_2023',\n",
    "                                        user='root',\n",
    "                                        password='')\n",
    "        \n",
    "        cursor = conn.cursor()\n",
    "\n",
    "        conn.start_transaction()\n",
    "\n",
    "        cursor.execute(\"SELECT name FROM employees WHERE employee_id = %s\", (employee_id,))\n",
    "        row = cursor.fetchone()[0]\n",
    "        if row is None:\n",
    "            raise ValueError(\"No such employee found.\")\n",
    "\n",
    "        cursor.execute(\"SELECT salary FROM employees WHERE employee_id = %s\", (employee_id,))\n",
    "        salary_check = cursor.fetchone()[0]\n",
    "        \n",
    "        if salary_check < 600:\n",
    "            raise ValueError(\"Sorry, employees' salaries must be higher than 600 due to regulations\")\n",
    "        \n",
    "        cursor.execute(\"UPDATE employees SET salary = %s WHERE employee_id = %s\", (proposed_salary, employee_id))\n",
    "        \n",
    "        cursor.execute(\"INSERT INTO tracking (employee_id, timestamp, salary) VALUES ({}, NOW(), {})\".format(employee_id, proposed_salary))\n",
    "\n",
    "        conn.commit()\n",
    "\n",
    "        print(\"Transfer successful.\")\n",
    "    except Exception as e:\n",
    "        conn.rollback()\n",
    "        print(f\"Transfer failed: {e}\")\n",
    "    finally:\n",
    "        cursor.close()\n",
    "        conn.close()"
   ]
  },
  {
   "cell_type": "code",
   "execution_count": 38,
   "metadata": {},
   "outputs": [
    {
     "name": "stdout",
     "output_type": "stream",
     "text": [
      "Transfer successful.\n"
     ]
    }
   ],
   "source": [
    "update1 = update_salary(2, 2358)"
   ]
  },
  {
   "cell_type": "markdown",
   "metadata": {},
   "source": [
    "# 4th task"
   ]
  },
  {
   "cell_type": "markdown",
   "metadata": {},
   "source": [
    "4. **Task: Flight Reservation**\n",
    "You are building a flight reservation system. Create a SQL transaction that reserves a seat for a passenger on a flight.\n",
    "Deduct the seat availability, update the reservation record, and log the booking details.\n",
    "If any part of the transaction fails (e.g., seat already taken), roll back the changes and notify the user of the failure."
   ]
  },
  {
   "cell_type": "code",
   "execution_count": 3,
   "metadata": {},
   "outputs": [],
   "source": [
    "# creating seats\n",
    "\n",
    "rows = [x for x in range(1, 39)]\n",
    "columns = [\"A\", \"B\", \"C\", \"D\", \"E\", \"F\"]\n",
    "\n",
    "seats = []\n",
    "for row in rows:\n",
    "    for column in columns:\n",
    "        seat = (str(row) + column, \"free\")\n",
    "        seats.append(seat)"
   ]
  },
  {
   "cell_type": "code",
   "execution_count": 4,
   "metadata": {},
   "outputs": [],
   "source": [
    "flight = db_updater('flight_reservations_2023')"
   ]
  },
  {
   "cell_type": "code",
   "execution_count": 6,
   "metadata": {},
   "outputs": [
    {
     "name": "stdout",
     "output_type": "stream",
     "text": [
      "connection is closed\n"
     ]
    }
   ],
   "source": [
    "query_seats = flight.sql_query(\"\"\"CREATE TABLE seats\n",
    "                                (seat_id VARCHAR(5) PRIMARY KEY,\n",
    "                                status VARCHAR(50));\n",
    "                                \"\"\")\n"
   ]
  },
  {
   "cell_type": "code",
   "execution_count": 9,
   "metadata": {},
   "outputs": [
    {
     "name": "stdout",
     "output_type": "stream",
     "text": [
      "connection is closed\n",
      "connection is closed\n"
     ]
    }
   ],
   "source": [
    "query_customers = flight.sql_query(\"\"\"CREATE TABLE customers\n",
    "                                (customer_id INT AUTO_INCREMENT PRIMARY KEY,\n",
    "                                name VARCHAR(50),\n",
    "                                surname VARCHAR(100),\n",
    "                                email VARCHAR(100));\n",
    "                                \"\"\")\n"
   ]
  },
  {
   "cell_type": "code",
   "execution_count": 29,
   "metadata": {},
   "outputs": [
    {
     "name": "stdout",
     "output_type": "stream",
     "text": [
      "connection is closed\n"
     ]
    }
   ],
   "source": [
    "query_reservations = flight.sql_query(\"\"\"CREATE TABLE reservations\n",
    "                                    (reservation_id INT AUTO_INCREMENT PRIMARY KEY,\n",
    "                                    seat_id VARCHAR(5),\n",
    "                                    customer_id INT,\n",
    "                                    timestamp TIMESTAMP);\n",
    "                                    \"\"\")"
   ]
  },
  {
   "cell_type": "code",
   "execution_count": 8,
   "metadata": {},
   "outputs": [
    {
     "name": "stdout",
     "output_type": "stream",
     "text": [
      "connection is closed\n"
     ]
    }
   ],
   "source": [
    "#inserting list of seats created to the database\n",
    "query_insert_seats = flight.sql_query(\"\"\"INSERT INTO seats (seat_id, status) VALUES (%s, %s);\"\"\", insert_list= True, listt =seats)"
   ]
  },
  {
   "cell_type": "code",
   "execution_count": 10,
   "metadata": {},
   "outputs": [
    {
     "name": "stdout",
     "output_type": "stream",
     "text": [
      "connection is closed\n"
     ]
    }
   ],
   "source": [
    "query_insert_customers = flight.sql_query(\"\"\"INSERT INTO customers (name, surname, email) VALUES\n",
    "                                (\"Billy\", \"Bill\", \"example@exampler.hyh\"),\n",
    "                                (\"Katniss\", \"Everdeen\", \"imhungry@games.lol\"),\n",
    "                                (\"Rich\", \"Richard\", \"richestofemall@million.cgf\");\n",
    "                                \"\"\")"
   ]
  },
  {
   "cell_type": "code",
   "execution_count": 40,
   "metadata": {},
   "outputs": [],
   "source": [
    "import mysql.connector\n",
    "\n",
    "def reserve_seats(customer_id, seat):\n",
    "    try:\n",
    "        conn = mysql.connector.connect(host='localhost',\n",
    "                                        database= 'flight_reservations_2023',\n",
    "                                        user='root',\n",
    "                                        password='')\n",
    "        \n",
    "        cursor = conn.cursor()\n",
    "\n",
    "        cursor.execute(\"SELECT status FROM seats WHERE seat_id = %s\", (seat,))\n",
    "        row = cursor.fetchone()\n",
    "        if row is None:\n",
    "            raise ValueError(\"Seat not found.\")\n",
    "        \n",
    "        seat_status = row[0]\n",
    "        if seat_status != \"free\":\n",
    "            raise ValueError(\"Sorry, the seat is taken.\")\n",
    "        \n",
    "        cursor.execute(\"UPDATE seats SET status = 'occupied' WHERE seat_id = %s\", (seat,))\n",
    "        cursor.execute(\"INSERT INTO reservations (seat_id, customer_id, timestamp) VALUES (%s, %s, NOW())\", (seat, customer_id))\n",
    "\n",
    "        conn.commit()\n",
    "\n",
    "        print(\"Reservation successful.\")\n",
    "    except mysql.connector.Error as e:\n",
    "        conn.rollback()\n",
    "        print(f\"Reservation failed: {e}\")\n",
    "    finally:\n",
    "        cursor.close()\n",
    "        conn.close()"
   ]
  },
  {
   "cell_type": "code",
   "execution_count": 43,
   "metadata": {},
   "outputs": [
    {
     "name": "stdout",
     "output_type": "stream",
     "text": [
      "Reservation successful.\n"
     ]
    }
   ],
   "source": [
    "reserve_seats(2, \"10B\")"
   ]
  },
  {
   "cell_type": "markdown",
   "metadata": {},
   "source": [
    "# 5th task"
   ]
  },
  {
   "cell_type": "markdown",
   "metadata": {},
   "source": [
    "5. **Task: Product Returns**\n",
    "You are developing an e-commerce platform. Implement a SQL transaction to process product returns initiated by customers.\n",
    "Update the product's return status, refund the customer's payment, and log the return details.\n",
    "If any part of the transaction fails (e.g., invalid return request), roll back the changes and handle the error gracefully."
   ]
  },
  {
   "cell_type": "code",
   "execution_count": null,
   "metadata": {},
   "outputs": [],
   "source": [
    "#going to use the database from the 2nd task since the topics overlap a lot, orders can be returned\n",
    "\n",
    "#task outline: 1) add returns table 2)match request with the order 3)if matches commit, if not rollback"
   ]
  },
  {
   "cell_type": "code",
   "execution_count": 5,
   "metadata": {},
   "outputs": [],
   "source": [
    "orpro = db_updater('order_processing_2023')"
   ]
  },
  {
   "cell_type": "code",
   "execution_count": 8,
   "metadata": {},
   "outputs": [
    {
     "name": "stdout",
     "output_type": "stream",
     "text": [
      "Transfer successful.\n"
     ]
    }
   ],
   "source": [
    "# making more orders so that there would be selection for returns\n",
    "order1 = order_now()"
   ]
  },
  {
   "cell_type": "code",
   "execution_count": 7,
   "metadata": {},
   "outputs": [
    {
     "name": "stdout",
     "output_type": "stream",
     "text": [
      "connection is closed\n",
      "Failed to update record to database rollback: 1050 (42S01): Table 'return_reasons' already exists\n",
      "connection is closed\n"
     ]
    }
   ],
   "source": [
    "query_returns = orpro.sql_query(\"\"\"CREATE TABLE returns\n",
    "                                    (return_id INT AUTO_INCREMENT PRIMARY KEY,\n",
    "                                    order_id INT,\n",
    "                                    customer_id INT,\n",
    "                                    product_id INT,\n",
    "                                    reason_id INT,\n",
    "                                    item_amount INT,\n",
    "                                    money_refunded FLOAT,\n",
    "                                    timestamp TIMESTAMP);\n",
    "                                    \"\"\")\n",
    "\n",
    "query_return_reasons = orpro.sql_query(\"\"\"CREATE TABLE return_reasons\n",
    "                                    (reason_id INT AUTO_INCREMENT PRIMARY KEY,\n",
    "                                    reason VARCHAR(300));\n",
    "                                    \"\"\")"
   ]
  },
  {
   "cell_type": "code",
   "execution_count": 40,
   "metadata": {},
   "outputs": [
    {
     "name": "stdout",
     "output_type": "stream",
     "text": [
      "[('Items broken',), ('Package lost',), ('Dissatisfaction with product within 14 days upon purchase',), ('Item does not match the description',), ('Different item arrived',)]\n",
      "connection is closed\n"
     ]
    }
   ],
   "source": [
    "reasons = [\"Items broken\", \"Package lost\", \"Dissatisfaction with product within 14 days upon purchase\", \"Item does not match the description\", \"Different item arrived\"]\n",
    "reasoned = [(x,) for x in reasons]\n",
    "\n",
    "insert_reasons = orpro.sql_query(\"\"\"INSERT INTO return_reasons (reason) VALUES (%s);\"\"\", insert_list= True, listt =reasoned)"
   ]
  },
  {
   "cell_type": "code",
   "execution_count": 24,
   "metadata": {},
   "outputs": [],
   "source": [
    "def return_products(customer_id, product_id, amount, reason_id, order_id):\n",
    "\n",
    "    try:\n",
    "        conn = mysql.connector.connect(host='localhost',\n",
    "                                        database= 'order_processing_2023',\n",
    "                                        user='root',\n",
    "                                        password='')\n",
    "        \n",
    "        cursor = conn.cursor()\n",
    "\n",
    "        conn.start_transaction()\n",
    "\n",
    "        cursor.execute(\"SELECT status FROM orders WHERE order_id = %s\", (order_id,))\n",
    "        row_ord = cursor.fetchone()\n",
    "        if row_ord is None:\n",
    "            raise ValueError(\"Invalid return, such order does not exist\")\n",
    "        \n",
    "        cursor.execute(\"SELECT customer_id FROM orders WHERE order_id = %s\", (order_id,))\n",
    "        row_cust = cursor.fetchone()[0]\n",
    "        if row_cust != customer_id:\n",
    "            raise ValueError(\"Invalid return, return information does not match order data: customer\")\n",
    "        \n",
    "        cursor.execute(\"SELECT product_id FROM orders WHERE order_id = %s\", (order_id,))\n",
    "        row_prod = cursor.fetchone()[0]\n",
    "        if row_prod != product_id:\n",
    "            raise ValueError(\"Invalid return, return information does not match order data: product\")\n",
    "        \n",
    "        cursor.execute(\"SELECT ordered_amount FROM orders WHERE order_id = %s\", (order_id,))\n",
    "        row_amount = cursor.fetchone()[0]\n",
    "        if row_amount != amount:\n",
    "            raise ValueError(\"Invalid return, return information does not match order data: amount\")\n",
    "        \n",
    "        cursor.execute(\"SELECT reason FROM return_reasons WHERE reason_id = %s\", (reason_id,))\n",
    "        row_reas = cursor.fetchone()[0]\n",
    "        if row_reas is None:\n",
    "            raise ValueError(\"Invalid reason for return: reason\")\n",
    "        \n",
    "        cursor.execute(\"SELECT price FROM products WHERE product_id = %s\", (product_id,))\n",
    "        row_price = cursor.fetchone()[0]\n",
    "\n",
    "        total_price = row_price * amount\n",
    "        \n",
    "        cursor.execute(\"\"\"INSERT INTO returns (order_id, customer_id, product_id, reason_id, item_amount, money_refunded, timestamp) VALUES \n",
    "                       ({}, {}, {}, {}, {}, {}, NOW())\"\"\".format(order_id, customer_id, product_id, reason_id, amount, total_price))\n",
    "        \n",
    "        cursor.execute(\"UPDATE orders SET status = 'refunded' WHERE order_id = %s\", (order_id,))\n",
    "\n",
    "        conn.commit()\n",
    "\n",
    "        print(\"Transfer successful.\")\n",
    "    except Exception as e:\n",
    "        conn.rollback()\n",
    "        print(f\"Transfer failed: {e}\")\n",
    "    finally:\n",
    "        cursor.close()\n",
    "        conn.close()"
   ]
  },
  {
   "cell_type": "code",
   "execution_count": 23,
   "metadata": {},
   "outputs": [
    {
     "name": "stdout",
     "output_type": "stream",
     "text": [
      "('ordered',)\n",
      "1\n",
      "1\n",
      "Items broken\n",
      "29.99\n",
      "29.99\n",
      "Transfer successful.\n"
     ]
    }
   ],
   "source": [
    "return_products(1, 1, 1, 1, 1)"
   ]
  },
  {
   "cell_type": "markdown",
   "metadata": {},
   "source": [
    "# 6th task"
   ]
  },
  {
   "cell_type": "markdown",
   "metadata": {},
   "source": [
    "6. **Task: Student Enrollment**\n",
    "Design a SQL transaction to handle the enrollment of new students in a university.\n",
    "Update the student enrollment records, assign courses, and update the tuition fee payment status. \n",
    "If any part of the transaction fails (e.g., course limit reached), roll back the changes to ensure no invalid enrollments are recorded."
   ]
  },
  {
   "cell_type": "code",
   "execution_count": 12,
   "metadata": {},
   "outputs": [],
   "source": [
    "stud = db_updater('student_enrollment_2023')"
   ]
  },
  {
   "cell_type": "code",
   "execution_count": 5,
   "metadata": {},
   "outputs": [
    {
     "name": "stdout",
     "output_type": "stream",
     "text": [
      "Failed to update record to database rollback: 1050 (42S01): Table 'students' already exists\n",
      "connection is closed\n",
      "Failed to update record to database rollback: 1050 (42S01): Table 'courses' already exists\n",
      "connection is closed\n",
      "connection is closed\n",
      "connection is closed\n"
     ]
    }
   ],
   "source": [
    "query_students = stud.sql_query(\"\"\"CREATE TABLE students\n",
    "                                (student_id INT AUTO_INCREMENT PRIMARY KEY,\n",
    "                                name VARCHAR(50),\n",
    "                                surname VARCHAR(100),\n",
    "                                credits_taken INT);\n",
    "                                    \"\"\")\n",
    "\n",
    "query_courses = stud.sql_query(\"\"\"CREATE TABLE courses\n",
    "                                (course_id INT AUTO_INCREMENT PRIMARY KEY,\n",
    "                                course_name VARCHAR(100),\n",
    "                                student_no_limit INT,\n",
    "                                credits INT);\n",
    "                                \"\"\")\n",
    "\n",
    "query_choices = stud.sql_query(\"\"\"CREATE TABLE course_choices\n",
    "                                (choice_id INT AUTO_INCREMENT PRIMARY KEY,\n",
    "                                student_id INT,\n",
    "                                course_id INT);\n",
    "                                \"\"\")       \n",
    "\n",
    "query_payment = stud.sql_query(\"\"\"CREATE TABLE fee_payment\n",
    "                                (payment_id INT AUTO_INCREMENT PRIMARY KEY,\n",
    "                                student_id INT,\n",
    "                                paid VARCHAR(5));\n",
    "                                \"\"\")                          "
   ]
  },
  {
   "cell_type": "code",
   "execution_count": 13,
   "metadata": {},
   "outputs": [],
   "source": [
    "def add_student(name, surname, fee_type = 'no sponsor'):\n",
    "\n",
    "    fee_types = ['no sponsor', 'full scholarship', 'partial scholarship', 'loan']\n",
    "    if fee_type not in fee_types:\n",
    "        raise ValueError(\"Invalid tuition fee payment type. Expected one of: %s\", (fee_types))\n",
    "    \n",
    "    try:\n",
    "        conn = mysql.connector.connect(host='localhost',\n",
    "                                        database= 'student_enrollment_2023',\n",
    "                                        user='root',\n",
    "                                        password='')\n",
    "        \n",
    "        cursor = conn.cursor()\n",
    "\n",
    "        conn.start_transaction()\n",
    "\n",
    "        cursor.execute(\"INSERT INTO students (name, surname, credits_taken) VALUES (%s, %s, 0);\", (name, surname,))\n",
    "    \n",
    "        cursor.execute(\"SELECT student_id FROM students WHERE name= %s AND surname = %s\", (name, surname,))\n",
    "        row_stud = cursor.fetchone()[0]\n",
    "    \n",
    "        if fee_type == \"full scholarship\":\n",
    "            cursor.execute(\"INSERT INTO fee_payment (student_id, paid) VALUES (%s, 'yes');\", (row_stud,))\n",
    "        else:\n",
    "            cursor.execute(\"INSERT INTO fee_payment (student_id, paid) VALUES (%s, 'no');\", (row_stud,))\n",
    "        \n",
    "        conn.commit()\n",
    "\n",
    "        print(\"Transfer successful.\")\n",
    "    except Exception as e:\n",
    "        conn.rollback()\n",
    "        print(f\"Transfer failed: {e}\")\n",
    "    finally:\n",
    "        cursor.close()\n",
    "        conn.close()"
   ]
  },
  {
   "cell_type": "code",
   "execution_count": 10,
   "metadata": {},
   "outputs": [
    {
     "name": "stdout",
     "output_type": "stream",
     "text": [
      "Transfer successful.\n",
      "Transfer successful.\n",
      "Transfer successful.\n",
      "Transfer successful.\n",
      "Transfer successful.\n",
      "Transfer successful.\n",
      "Transfer successful.\n",
      "Transfer successful.\n"
     ]
    }
   ],
   "source": [
    "student_names = [\"Inga\", \"Julia\", \"Chris\", \"Ken\", \"Aliya\", \"Thomas\", \"Justin\", \"Cassandra\"]\n",
    "student_surnames = [\"Gonzalez\", \"Pipiro\", \"Goblin\", \"Katty\", \"Examplier\", \"Capitol\", \"Zymus\", \"Antrapa\"]\n",
    "fees = ['no sponsor', 'full scholarship', 'partial scholarship', 'loan', 'no sponsor', 'full scholarship', 'partial scholarship', 'loan']\n",
    "\n",
    "for i in range(len(student_names)):\n",
    "    add_student(student_names[i], student_surnames[i], fees[i])"
   ]
  },
  {
   "cell_type": "code",
   "execution_count": 9,
   "metadata": {},
   "outputs": [],
   "source": [
    "# This part is for August 3 task! All added/edited parts for this tasks will be noted in the comments like this\n",
    "names = [\n",
    "    \"Mia\", \"Ethan\", \"Olivia\", \"Liam\", \"Ava\", \n",
    "    \"Noah\", \"Sophia\", \"Jackson\", \"Isabella\", \"Aiden\", \n",
    "    \"Harper\", \"Lucas\", \"Amelia\", \"Oliver\", \"Emma\", \n",
    "    \"Elijah\", \"Charlotte\", \"Carter\", \"Mia\", \"Jack\", \n",
    "    \"Sophia\", \"Benjamin\", \"Evelyn\", \"Daniel\", \"Scarlett\", \n",
    "    \"Matthew\", \"Grace\", \"Alexander\", \"Chloe\", \"Samuel\", \n",
    "    \"Lily\", \"Michael\", \"Abigail\", \"William\", \"Emily\", \n",
    "    \"James\", \"Ella\", \"Logan\", \"Elizabeth\", \"David\", \n",
    "    \"Victoria\", \"Joseph\", \"Madison\", \"Henry\", \"Avery\", \n",
    "    \"Gabriel\", \"Zoey\", \"Christopher\", \"Penelope\", \"Andrew\"\n",
    "]\n",
    "\n",
    "surnames = [\n",
    "    \"Johnson\", \"Martinez\", \"Smith\", \"Anderson\", \"Williams\", \n",
    "    \"Thompson\", \"Davis\", \"Taylor\", \"Hernandez\", \"Brown\", \n",
    "    \"Miller\", \"Wilson\", \"Garcia\", \"Lee\", \"Rodriguez\", \n",
    "    \"Martinez\", \"Jackson\", \"White\", \"Adams\", \"Lewis\", \n",
    "    \"Hall\", \"Scott\", \"Young\", \"Turner\", \"Moore\", \n",
    "    \"Mitchell\", \"Nelson\", \"King\", \"Hill\", \"Green\", \n",
    "    \"Carter\", \"Brooks\", \"Wright\", \"Parker\", \"Ramirez\", \n",
    "    \"Kelly\", \"Foster\", \"Cooper\", \"Hayes\", \"Bennett\", \n",
    "    \"Flores\", \"Reed\", \"Rivera\", \"Price\", \"Coleman\", \n",
    "    \"Rogers\", \"Ward\", \"Ross\", \"Evans\", \"Powell\"\n",
    "]\n",
    "\n",
    "fee = []\n",
    "for i in range(50):\n",
    "    fee.append('no sponsor')"
   ]
  },
  {
   "cell_type": "code",
   "execution_count": 14,
   "metadata": {},
   "outputs": [
    {
     "name": "stdout",
     "output_type": "stream",
     "text": [
      "Transfer successful.\n",
      "Transfer successful.\n",
      "Transfer successful.\n",
      "Transfer successful.\n",
      "Transfer successful.\n",
      "Transfer successful.\n",
      "Transfer successful.\n",
      "Transfer successful.\n",
      "Transfer successful.\n",
      "Transfer successful.\n",
      "Transfer successful.\n",
      "Transfer successful.\n",
      "Transfer successful.\n",
      "Transfer successful.\n",
      "Transfer successful.\n",
      "Transfer successful.\n",
      "Transfer successful.\n",
      "Transfer successful.\n",
      "Transfer successful.\n",
      "Transfer successful.\n",
      "Transfer successful.\n",
      "Transfer successful.\n",
      "Transfer successful.\n",
      "Transfer successful.\n",
      "Transfer successful.\n",
      "Transfer successful.\n",
      "Transfer successful.\n",
      "Transfer successful.\n",
      "Transfer successful.\n",
      "Transfer successful.\n",
      "Transfer successful.\n",
      "Transfer successful.\n",
      "Transfer successful.\n",
      "Transfer successful.\n",
      "Transfer successful.\n",
      "Transfer successful.\n",
      "Transfer successful.\n",
      "Transfer successful.\n",
      "Transfer successful.\n",
      "Transfer successful.\n",
      "Transfer successful.\n",
      "Transfer successful.\n",
      "Transfer successful.\n",
      "Transfer successful.\n",
      "Transfer successful.\n",
      "Transfer successful.\n",
      "Transfer successful.\n",
      "Transfer successful.\n",
      "Transfer successful.\n",
      "Transfer successful.\n"
     ]
    }
   ],
   "source": [
    "# This part is for August 3 task! All added/edited parts for this tasks will be noted in the comments like this\n",
    "for i in range(len(names)):\n",
    "    add_student(names[i], surnames[i], fee[i])"
   ]
  },
  {
   "cell_type": "code",
   "execution_count": 8,
   "metadata": {},
   "outputs": [
    {
     "name": "stdout",
     "output_type": "stream",
     "text": [
      "connection is closed\n"
     ]
    }
   ],
   "source": [
    "query_insert_courses = stud.sql_query(\"\"\"INSERT INTO courses (course_name, student_no_limit, credits) VALUES\n",
    "                                    (\"Linear Algebra\", 15, 5),\n",
    "                                    (\"Molecular Biotechnology\", 20, 5),\n",
    "                                    (\"Spectroscopy\", 16, 10),\n",
    "                                    (\"Quantum Physics\", 25, 5),\n",
    "                                    (\"Enzymology\", 24, 10),\n",
    "                                    (\"Stereochemistry\", 15, 5),\n",
    "                                    (\"Microbiology\", 5, 10),\n",
    "                                    (\"Cell Natural and Artificial Lysis Pathways\", 30, 10);\n",
    "                                    \"\"\")"
   ]
  },
  {
   "cell_type": "code",
   "execution_count": 19,
   "metadata": {},
   "outputs": [
    {
     "name": "stdout",
     "output_type": "stream",
     "text": [
      "connection is closed\n"
     ]
    }
   ],
   "source": [
    "# This part is for August 3 task! All added/edited parts for this tasks will be noted in the comments like this\n",
    "# Adding more courses\n",
    "query_insert_courses = stud.sql_query(\"\"\"INSERT INTO courses (course_name, student_no_limit, credits) VALUES\n",
    "                                    (\"Economics\", 20, 5),\n",
    "                                    (\"Physics\", 25, 10),\n",
    "                                    (\"Panel readings\", 30, 5),\n",
    "                                    (\"Electromechanics\", 17, 10),\n",
    "                                    (\"Psychology\", 23, 5),\n",
    "                                    (\"Biochemistry\", 20, 15),\n",
    "                                    (\"Analytical Chemistry\", 25, 5),\n",
    "                                    (\"Discrete Mathematics\", 30, 10);\n",
    "                                    \"\"\")"
   ]
  },
  {
   "cell_type": "code",
   "execution_count": 15,
   "metadata": {},
   "outputs": [],
   "source": [
    "def choose_course(student_id, course_id):\n",
    "    try:\n",
    "        conn = mysql.connector.connect(host='localhost',\n",
    "                                        database= 'student_enrollment_2023',\n",
    "                                        user='root',\n",
    "                                        password='')\n",
    "        \n",
    "        cursor = conn.cursor()\n",
    "\n",
    "        conn.start_transaction()\n",
    "\n",
    "        cursor.execute(\"SELECT name FROM students WHERE student_id = %s\", (student_id,))\n",
    "        row_ch1 = cursor.fetchone()\n",
    "        if row_ch1 is None:\n",
    "            raise ValueError(\"Invalid choice, such student does not exist\")\n",
    "        \n",
    "        cursor.execute(\"SELECT course_name FROM courses WHERE course_id = %s\", (course_id,))\n",
    "        row_ch2 = cursor.fetchone()\n",
    "        if row_ch2 is None:\n",
    "            raise ValueError(\"Invalid choice, such course does not exist\")\n",
    "\n",
    "        cursor.execute(\"SELECT credits_taken FROM students WHERE student_id = %s\", (student_id,))\n",
    "        row_credits = cursor.fetchone()[0]\n",
    "\n",
    "        cursor.execute(\"SELECT credits FROM courses WHERE course_id = %s\", (course_id,))\n",
    "        row_course = cursor.fetchone()[0]\n",
    "\n",
    "        if (row_credits + row_course) > 30:\n",
    "            raise ValueError(\"Invalid choice, chosen moren than 30 credits for a semester\")\n",
    "        \n",
    "        cursor.execute(\"\"\"INSERT INTO course_choices (student_id, course_id) VALUES \n",
    "                       ({}, {})\"\"\".format(student_id, course_id))\n",
    "        \n",
    "        new_credits = row_credits + row_course\n",
    "        \n",
    "        cursor.execute(\"UPDATE students SET credits_taken = %s WHERE student_id = %s\", (new_credits, student_id,))\n",
    "\n",
    "        conn.commit()\n",
    "\n",
    "        print(\"Transfer successful.\")\n",
    "    except Exception as e:\n",
    "        conn.rollback()\n",
    "        print(f\"Transfer failed: {e}\")\n",
    "    finally:\n",
    "        cursor.close()\n",
    "        conn.close()"
   ]
  },
  {
   "cell_type": "code",
   "execution_count": null,
   "metadata": {},
   "outputs": [],
   "source": [
    "choose_course(2, 3)"
   ]
  },
  {
   "cell_type": "code",
   "execution_count": 18,
   "metadata": {},
   "outputs": [
    {
     "name": "stdout",
     "output_type": "stream",
     "text": [
      "['student_id']\n",
      "(1,)\n",
      "(2,)\n",
      "(3,)\n",
      "(4,)\n",
      "(5,)\n",
      "(6,)\n",
      "(7,)\n",
      "(8,)\n",
      "(9,)\n",
      "(10,)\n",
      "(11,)\n",
      "(12,)\n",
      "(13,)\n",
      "(14,)\n",
      "(15,)\n",
      "(16,)\n",
      "(17,)\n",
      "(18,)\n",
      "(19,)\n",
      "(20,)\n",
      "(21,)\n",
      "(22,)\n",
      "(23,)\n",
      "(24,)\n",
      "(25,)\n",
      "(26,)\n",
      "(27,)\n",
      "(28,)\n",
      "(29,)\n",
      "(30,)\n",
      "(31,)\n",
      "(32,)\n",
      "(33,)\n",
      "(34,)\n",
      "(35,)\n",
      "(36,)\n",
      "(37,)\n",
      "(38,)\n",
      "(39,)\n",
      "(40,)\n",
      "(41,)\n",
      "(42,)\n",
      "(43,)\n",
      "(44,)\n",
      "(45,)\n",
      "(46,)\n",
      "(47,)\n",
      "(48,)\n",
      "(49,)\n",
      "(50,)\n",
      "(51,)\n",
      "(52,)\n",
      "(53,)\n",
      "(54,)\n",
      "(55,)\n",
      "(56,)\n",
      "(57,)\n",
      "(58,)\n",
      "(59,)\n",
      "connection is closed\n"
     ]
    }
   ],
   "source": [
    "# This part is for August 3 task! All added/edited parts for this tasks will be noted in the comments like this\n",
    "st_id = stud.sql_query(\"SELECT student_id FROM students;\", commit = False, fetch = True)\n",
    "st_id\n",
    "#we see that there are 59 students in total"
   ]
  },
  {
   "cell_type": "code",
   "execution_count": 20,
   "metadata": {},
   "outputs": [
    {
     "name": "stdout",
     "output_type": "stream",
     "text": [
      "['course_id']\n",
      "(1,)\n",
      "(2,)\n",
      "(3,)\n",
      "(4,)\n",
      "(5,)\n",
      "(6,)\n",
      "(7,)\n",
      "(8,)\n",
      "(9,)\n",
      "(10,)\n",
      "(11,)\n",
      "(12,)\n",
      "(13,)\n",
      "(14,)\n",
      "(15,)\n",
      "(16,)\n",
      "connection is closed\n"
     ]
    }
   ],
   "source": [
    "# This part is for August 3 task! All added/edited parts for this tasks will be noted in the comments like this\n",
    "course_id = stud.sql_query(\"SELECT course_id FROM courses;\", commit = False, fetch = True)\n",
    "course_id\n",
    "#we see that there are 16 students in total"
   ]
  },
  {
   "cell_type": "code",
   "execution_count": 35,
   "metadata": {},
   "outputs": [
    {
     "name": "stdout",
     "output_type": "stream",
     "text": [
      "Transfer failed: Invalid choice, chosen moren than 30 credits for a semester\n",
      "Transfer failed: Invalid choice, chosen moren than 30 credits for a semester\n",
      "Transfer failed: Invalid choice, chosen moren than 30 credits for a semester\n",
      "Transfer failed: Invalid choice, chosen moren than 30 credits for a semester\n",
      "Transfer failed: Invalid choice, chosen moren than 30 credits for a semester\n",
      "Transfer failed: Invalid choice, chosen moren than 30 credits for a semester\n",
      "Transfer failed: Invalid choice, chosen moren than 30 credits for a semester\n",
      "Transfer failed: Invalid choice, chosen moren than 30 credits for a semester\n",
      "Transfer failed: Invalid choice, chosen moren than 30 credits for a semester\n",
      "Transfer failed: Invalid choice, chosen moren than 30 credits for a semester\n",
      "Transfer failed: Invalid choice, chosen moren than 30 credits for a semester\n",
      "Transfer failed: Invalid choice, chosen moren than 30 credits for a semester\n",
      "Transfer failed: Invalid choice, chosen moren than 30 credits for a semester\n",
      "Transfer failed: Invalid choice, chosen moren than 30 credits for a semester\n",
      "Transfer failed: Invalid choice, chosen moren than 30 credits for a semester\n",
      "Transfer failed: Invalid choice, chosen moren than 30 credits for a semester\n",
      "Transfer failed: Invalid choice, chosen moren than 30 credits for a semester\n",
      "Transfer failed: Invalid choice, chosen moren than 30 credits for a semester\n",
      "Transfer failed: Invalid choice, chosen moren than 30 credits for a semester\n",
      "Transfer failed: Invalid choice, chosen moren than 30 credits for a semester\n",
      "Transfer failed: Invalid choice, chosen moren than 30 credits for a semester\n",
      "Transfer failed: Invalid choice, chosen moren than 30 credits for a semester\n",
      "Transfer failed: Invalid choice, chosen moren than 30 credits for a semester\n",
      "Transfer failed: Invalid choice, chosen moren than 30 credits for a semester\n",
      "Transfer failed: Invalid choice, chosen moren than 30 credits for a semester\n",
      "Transfer failed: Invalid choice, chosen moren than 30 credits for a semester\n",
      "Transfer failed: Invalid choice, chosen moren than 30 credits for a semester\n",
      "Transfer failed: Invalid choice, chosen moren than 30 credits for a semester\n",
      "Transfer failed: Invalid choice, chosen moren than 30 credits for a semester\n",
      "Transfer failed: Invalid choice, chosen moren than 30 credits for a semester\n",
      "Transfer failed: Invalid choice, chosen moren than 30 credits for a semester\n",
      "Transfer failed: Invalid choice, chosen moren than 30 credits for a semester\n",
      "Transfer failed: Invalid choice, chosen moren than 30 credits for a semester\n",
      "Transfer failed: Invalid choice, chosen moren than 30 credits for a semester\n",
      "Transfer failed: Invalid choice, chosen moren than 30 credits for a semester\n",
      "Transfer failed: Invalid choice, chosen moren than 30 credits for a semester\n",
      "Transfer failed: Invalid choice, chosen moren than 30 credits for a semester\n",
      "Transfer failed: Invalid choice, chosen moren than 30 credits for a semester\n",
      "Transfer failed: Invalid choice, chosen moren than 30 credits for a semester\n",
      "Transfer failed: Invalid choice, chosen moren than 30 credits for a semester\n",
      "Transfer failed: Invalid choice, chosen moren than 30 credits for a semester\n",
      "Transfer failed: Invalid choice, chosen moren than 30 credits for a semester\n",
      "Transfer failed: Invalid choice, chosen moren than 30 credits for a semester\n",
      "Transfer failed: Invalid choice, chosen moren than 30 credits for a semester\n",
      "Transfer failed: Invalid choice, chosen moren than 30 credits for a semester\n",
      "Transfer failed: Invalid choice, chosen moren than 30 credits for a semester\n",
      "Transfer failed: Invalid choice, chosen moren than 30 credits for a semester\n",
      "Transfer failed: Invalid choice, chosen moren than 30 credits for a semester\n",
      "Transfer failed: Invalid choice, chosen moren than 30 credits for a semester\n",
      "Transfer failed: Invalid choice, chosen moren than 30 credits for a semester\n",
      "Transfer failed: Invalid choice, chosen moren than 30 credits for a semester\n",
      "Transfer failed: Invalid choice, chosen moren than 30 credits for a semester\n",
      "Transfer failed: Invalid choice, chosen moren than 30 credits for a semester\n",
      "Transfer failed: Invalid choice, chosen moren than 30 credits for a semester\n",
      "Transfer failed: Invalid choice, chosen moren than 30 credits for a semester\n",
      "Transfer failed: Invalid choice, chosen moren than 30 credits for a semester\n",
      "Transfer failed: Invalid choice, chosen moren than 30 credits for a semester\n",
      "Transfer failed: Invalid choice, chosen moren than 30 credits for a semester\n",
      "Transfer failed: Invalid choice, chosen moren than 30 credits for a semester\n"
     ]
    }
   ],
   "source": [
    "# This part is for August 3 task! All added/edited parts for this tasks will be noted in the comments like this\n",
    "# Will run this for a few times till all students have chosen 30 credits worth of studies\n",
    "import random\n",
    "for a in range(1, 60):\n",
    "    choice = random.randint(1, 16)\n",
    "    choose_course(a, choice)"
   ]
  },
  {
   "cell_type": "code",
   "execution_count": 16,
   "metadata": {},
   "outputs": [],
   "source": [
    "#just paying fees when the time comes\n",
    "\n",
    "def pay_the_fees(student_id):\n",
    "    fee_paid = stud.sql_query(\"UPDATE fee_payment SET paid = 'yes' WHERE student_id = {}\".format(student_id))\n",
    "    return fee_paid"
   ]
  },
  {
   "cell_type": "code",
   "execution_count": 17,
   "metadata": {},
   "outputs": [
    {
     "name": "stdout",
     "output_type": "stream",
     "text": [
      "connection is closed\n"
     ]
    }
   ],
   "source": [
    "pay_the_fees(2)"
   ]
  },
  {
   "cell_type": "markdown",
   "metadata": {},
   "source": [
    "# 7th task"
   ]
  },
  {
   "cell_type": "markdown",
   "metadata": {},
   "source": [
    "Non SQL database:\n",
    "\n",
    "In Python, design your own design of the database (using the files) and perform some practical examples with it. "
   ]
  },
  {
   "cell_type": "code",
   "execution_count": 18,
   "metadata": {},
   "outputs": [],
   "source": [
    "import json"
   ]
  },
  {
   "cell_type": "code",
   "execution_count": 19,
   "metadata": {},
   "outputs": [],
   "source": [
    "class Winnings:\n",
    "    def __init__(self, file_path):\n",
    "        self.file_path = file_path\n",
    "        self.data = self.load_data()\n",
    "\n",
    "    def load_data(self):\n",
    "        try:\n",
    "            with open(self.file_path, 'r') as file:\n",
    "                data = json.load(file)\n",
    "                return data\n",
    "        except FileNotFoundError:\n",
    "            return []\n",
    "\n",
    "    def commit(self):\n",
    "        with open(self.file_path, 'w') as file:\n",
    "            json.dump(self.data, file)\n",
    "\n",
    "    def fetch(self, name, surname):\n",
    "        for entry in self.data:\n",
    "            if entry['name'] == name and entry['surname'] == surname:\n",
    "                return entry\n",
    "        return None\n",
    "\n",
    "    def update(self, name, surname, medals, time):\n",
    "        for entry in self.data:\n",
    "            if entry['name'] == name and entry['surname'] == surname:\n",
    "                entry['medals'] = medals\n",
    "                entry['time'] = time\n",
    "                self.commit()\n",
    "                return True\n",
    "        return False\n",
    "\n",
    "    def insert(self, name, surname, age, medals, time):\n",
    "        entry = {\n",
    "            'name': name,\n",
    "            'surname': surname,\n",
    "            'age': age,\n",
    "            'medals': medals,\n",
    "            'time': time\n",
    "        }\n",
    "        self.data.append(entry)\n",
    "        self.commit()\n",
    "        return True\n",
    "\n",
    "    def delete(self, name, surname):\n",
    "        for entry in self.data:\n",
    "            if entry['name'] == name and entry['surname'] == surname:\n",
    "                self.data.remove(entry)\n",
    "                self.commit()\n",
    "                return True\n",
    "        return False\n",
    "\n",
    "    def get_last_item(self):\n",
    "        if self.data:\n",
    "            return self.data[-1]\n",
    "        return None\n",
    "\n"
   ]
  },
  {
   "cell_type": "code",
   "execution_count": 27,
   "metadata": {},
   "outputs": [],
   "source": [
    "\n",
    "db = Winnings(\"winnings_database.json\")\n"
   ]
  },
  {
   "cell_type": "code",
   "execution_count": 28,
   "metadata": {},
   "outputs": [
    {
     "data": {
      "text/plain": [
       "True"
      ]
     },
     "execution_count": 28,
     "metadata": {},
     "output_type": "execute_result"
    }
   ],
   "source": [
    "\n",
    "db.insert(\"Janina\", \"Queue\", 30, [\"Gold\", \"Silver\"], \"2023\")\n",
    "db.insert(\"Janet\", \"Jaxon\", 28, [\"Bronze\"], \"2022\")\n",
    "db.insert(\"Alexandra\", \"Johns\", 35, [\"Gold\", \"Gold\", \"Silver\"], \"2023\")\n"
   ]
  },
  {
   "cell_type": "code",
   "execution_count": 30,
   "metadata": {},
   "outputs": [
    {
     "name": "stdout",
     "output_type": "stream",
     "text": [
      "{'name': 'Janina', 'surname': 'Queue', 'age': 30, 'medals': ['Gold', 'Silver'], 'time': '2023'}\n"
     ]
    }
   ],
   "source": [
    "print(db.fetch(\"Janina\", \"Queue\"))"
   ]
  },
  {
   "cell_type": "code",
   "execution_count": 31,
   "metadata": {},
   "outputs": [
    {
     "name": "stdout",
     "output_type": "stream",
     "text": [
      "{'name': 'Alexandra', 'surname': 'Johns', 'age': 35, 'medals': ['Gold', 'Gold', 'Silver'], 'time': '2023'}\n"
     ]
    }
   ],
   "source": [
    "print(db.get_last_item())"
   ]
  },
  {
   "cell_type": "code",
   "execution_count": 32,
   "metadata": {},
   "outputs": [
    {
     "name": "stdout",
     "output_type": "stream",
     "text": [
      "{'name': 'Janet', 'surname': 'Jaxon', 'age': 28, 'medals': ['Bronze', 'Gold', 'Silver'], 'time': ['2022', '2023', '2023']}\n"
     ]
    }
   ],
   "source": [
    "db.update(\"Janet\", \"Jaxon\", [\"Bronze\", \"Gold\", \"Silver\"], [\"2022\", \"2023\", \"2023\"])\n",
    "print(db.fetch(\"Janet\", \"Jaxon\"))\n"
   ]
  },
  {
   "cell_type": "code",
   "execution_count": 33,
   "metadata": {},
   "outputs": [
    {
     "name": "stdout",
     "output_type": "stream",
     "text": [
      "None\n"
     ]
    }
   ],
   "source": [
    "db.delete(\"Janina\", \"Queue\")\n",
    "print(db.fetch(\"Janina\", \"Queue\"))"
   ]
  },
  {
   "cell_type": "code",
   "execution_count": 34,
   "metadata": {},
   "outputs": [],
   "source": [
    "db.commit()"
   ]
  },
  {
   "cell_type": "code",
   "execution_count": 35,
   "metadata": {},
   "outputs": [
    {
     "data": {
      "text/plain": [
       "[{'name': 'Janet',\n",
       "  'surname': 'Jaxon',\n",
       "  'age': 28,\n",
       "  'medals': ['Bronze', 'Gold', 'Silver'],\n",
       "  'time': ['2022', '2023', '2023']},\n",
       " {'name': 'Alexandra',\n",
       "  'surname': 'Johns',\n",
       "  'age': 35,\n",
       "  'medals': ['Gold', 'Gold', 'Silver'],\n",
       "  'time': '2023'}]"
      ]
     },
     "execution_count": 35,
     "metadata": {},
     "output_type": "execute_result"
    }
   ],
   "source": [
    "db.load_data()"
   ]
  }
 ],
 "metadata": {
  "kernelspec": {
   "display_name": "Python 3",
   "language": "python",
   "name": "python3"
  },
  "language_info": {
   "codemirror_mode": {
    "name": "ipython",
    "version": 3
   },
   "file_extension": ".py",
   "mimetype": "text/x-python",
   "name": "python",
   "nbconvert_exporter": "python",
   "pygments_lexer": "ipython3",
   "version": "3.10.12"
  },
  "orig_nbformat": 4
 },
 "nbformat": 4,
 "nbformat_minor": 2
}
