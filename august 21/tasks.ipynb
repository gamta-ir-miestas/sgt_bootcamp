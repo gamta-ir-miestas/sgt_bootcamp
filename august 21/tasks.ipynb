{
 "cells": [
  {
   "cell_type": "markdown",
   "metadata": {},
   "source": [
    "Tasks 21.08 (deadline - end of this week, you don't need to select a complicated examples for the tasks below):\n",
    "Parallel Matrix Multiplication:\n",
    "\n",
    "Implement parallel matrix multiplication using the concurrent.futures\n",
    "module to speed up the computation of large matrices. (you can declare the matrixes using, ex. lists or tuples)\n",
    "\n",
    "Distributed Web Scraping:\n",
    "Select a website. Distribute web scraping tasks across multiple processes or threads using libraries\n",
    "like concurrent.futures or Scrapy to gather data from various websites simultaneously.\n",
    "\n",
    "Parallel Word Count:\n",
    "Distribute the task of counting words in multiple text files across\n",
    "multiple processes using the concurrent.futures module."
   ]
  },
  {
   "cell_type": "code",
   "execution_count": 4,
   "metadata": {},
   "outputs": [],
   "source": [
    "import concurrent.futures"
   ]
  },
  {
   "cell_type": "markdown",
   "metadata": {},
   "source": [
    "Parallel Matrix Multiplication:\n",
    "\n",
    "Implement parallel matrix multiplication using the concurrent.futures module to speed up the computation of large matrices. (you can declare the matrixes using, ex. lists or tuples)"
   ]
  },
  {
   "cell_type": "code",
   "execution_count": 4,
   "metadata": {},
   "outputs": [],
   "source": [
    "\n",
    "\n",
    "def multiply_row_col(row, col):\n",
    "    result = 0\n",
    "    for a, b in zip(row, col):\n",
    "        result += a * b\n",
    "    return result\n",
    "\n",
    "def parallel_matrix_multiplication(matrix_a, matrix_b):\n",
    "    if len(matrix_a[0]) != len(matrix_b):\n",
    "        raise ValueError(\"Matrix dimensions do not match for multiplication.\")\n",
    "\n",
    "    num_rows_a = len(matrix_a)\n",
    "    num_cols_b = len(matrix_b[0])\n",
    "    result = [[0] * num_cols_b for _ in range(num_rows_a)] #creates a matrix of zeros\n",
    "\n",
    "    with concurrent.futures.ThreadPoolExecutor() as executor:\n",
    "        futures = []\n",
    "        for i in range(num_rows_a):\n",
    "            for j in range(num_cols_b):\n",
    "                row = matrix_a[i]\n",
    "                col = [matrix_b[k][j] for k in range(len(matrix_b))]\n",
    "                futures.append(executor.submit(multiply_row_col, row, col))\n",
    "\n",
    "        for i, future in enumerate(concurrent.futures.as_completed(futures)):\n",
    "            row_idx = i // num_cols_b\n",
    "            col_idx = i % num_cols_b\n",
    "            result[row_idx][col_idx] = future.result()\n",
    "\n",
    "    return result"
   ]
  },
  {
   "cell_type": "code",
   "execution_count": 42,
   "metadata": {},
   "outputs": [
    {
     "name": "stdout",
     "output_type": "stream",
     "text": [
      "[24, 69, 54]\n",
      "[84, 18, 30]\n",
      "[138, 114, 90]\n"
     ]
    }
   ],
   "source": [
    "matrix_a = [\n",
    "    [1, 2, 3],\n",
    "    [4, 5, 6],\n",
    "    [7, 8, 9]\n",
    "]\n",
    "\n",
    "matrix_b = [\n",
    "    [9, 8, 7],\n",
    "    [6, 5, 4],\n",
    "    [3, 2, 1]\n",
    "]\n",
    "\n",
    "result = parallel_matrix_multiplication(matrix_a, matrix_b)\n",
    "for row in result:\n",
    "    print(row)\n",
    "    "
   ]
  },
  {
   "cell_type": "markdown",
   "metadata": {},
   "source": [
    "Distributed Web Scraping:\n",
    "\n",
    "Select a website. Distribute web scraping tasks across multiple processes or threads using libraries\n",
    "like concurrent.futures or Scrapy to gather data from various websites simultaneously."
   ]
  },
  {
   "cell_type": "code",
   "execution_count": 50,
   "metadata": {},
   "outputs": [
    {
     "name": "stdout",
     "output_type": "stream",
     "text": [
      "200\n",
      "200\n",
      "200\n",
      "200\n",
      "200\n",
      "200\n"
     ]
    }
   ],
   "source": [
    "import requests\n",
    "\n",
    "random_urls = [\n",
    "    'https://lrytas.lt',\n",
    "    'https://tamo.lt',\n",
    "    'https://youtube.com',\n",
    "    'https://topocentras.lt',\n",
    "    'https://rde.lt',\n",
    "    'https://lsp.lt'\n",
    "]\n",
    "\n",
    "#checking if urls exist and if it is possible to connect\n",
    "def get_website_status(url):\n",
    "    status = requests.get(url).status_code\n",
    "    return status\n",
    "\n",
    "with concurrent.futures.ThreadPoolExecutor() as executor:\n",
    "    result = executor.map(get_website_status, random_urls)\n",
    "\n",
    "for row in result:\n",
    "    print(row)"
   ]
  },
  {
   "cell_type": "markdown",
   "metadata": {},
   "source": [
    "Parallel Word Count:\n",
    "\n",
    "Distribute the task of counting words in multiple text files across multiple processes using the concurrent.futures module."
   ]
  },
  {
   "cell_type": "code",
   "execution_count": 3,
   "metadata": {},
   "outputs": [
    {
     "data": {
      "text/plain": [
       "13"
      ]
     },
     "execution_count": 3,
     "metadata": {},
     "output_type": "execute_result"
    }
   ],
   "source": [
    "def count_words(file):\n",
    "    with open(file, 'r') as f:\n",
    "        text = f.read()\n",
    "        wordcount = len(text.split(' '))\n",
    "        return wordcount\n",
    "    \n",
    "count_words(\"example.txt\")"
   ]
  },
  {
   "cell_type": "code",
   "execution_count": 10,
   "metadata": {},
   "outputs": [
    {
     "name": "stdout",
     "output_type": "stream",
     "text": [
      "13\n",
      "149\n",
      "309\n",
      "1462\n",
      "145\n"
     ]
    }
   ],
   "source": [
    "text_files = [\"example.txt\", \"example2.txt\", \"example3.txt\", \"example4.txt\", \"example5.txt\"]\n",
    "\n",
    "with concurrent.futures.ThreadPoolExecutor() as executor:\n",
    "    result = executor.map(count_words, text_files)\n",
    "\n",
    "for row in result:\n",
    "    print(row)"
   ]
  }
 ],
 "metadata": {
  "kernelspec": {
   "display_name": "Python 3",
   "language": "python",
   "name": "python3"
  },
  "language_info": {
   "codemirror_mode": {
    "name": "ipython",
    "version": 3
   },
   "file_extension": ".py",
   "mimetype": "text/x-python",
   "name": "python",
   "nbconvert_exporter": "python",
   "pygments_lexer": "ipython3",
   "version": "3.10.12"
  },
  "orig_nbformat": 4
 },
 "nbformat": 4,
 "nbformat_minor": 2
}
